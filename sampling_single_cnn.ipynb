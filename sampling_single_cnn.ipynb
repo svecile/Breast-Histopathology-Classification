{
 "cells": [
  {
   "cell_type": "code",
   "execution_count": 1,
   "metadata": {},
   "outputs": [],
   "source": [
    "import copy\n",
    "import pandas as pd\n",
    "import numpy as np\n",
    "import torch\n",
    "import torchvision\n",
    "import torch.nn as nn\n",
    "from torch.utils.data import Dataset, DataLoader\n",
    "from torchvision import models, transforms\n",
    "from torchvision.io import read_image\n",
    "\n",
    "from tqdm import tqdm\n",
    "from datetime import datetime\n",
    "from sklearn.model_selection import train_test_split\n",
    "from sklearn.metrics import roc_auc_score\n",
    "\n",
    "import wandb\n",
    "from ece9603_project import lossFunctions\n",
    "\n",
    "device = \"cpu\"\n",
    "if torch.cuda.is_available():\n",
    "    device=\"cuda\""
   ]
  },
  {
   "cell_type": "code",
   "execution_count": 2,
   "metadata": {
    "pycharm": {
     "name": "#%%\n"
    }
   },
   "outputs": [
    {
     "name": "stderr",
     "output_type": "stream",
     "text": [
      "\u001b[34m\u001b[1mwandb\u001b[0m: Currently logged in as: \u001b[33mece9603_project\u001b[0m (use `wandb login --relogin` to force relogin)\n"
     ]
    },
    {
     "data": {
      "text/plain": [
       "True"
      ]
     },
     "execution_count": 2,
     "metadata": {},
     "output_type": "execute_result"
    }
   ],
   "source": [
    "# Run once to setup connection to wandb\n",
    "wandb.login()"
   ]
  },
  {
   "cell_type": "code",
   "execution_count": 3,
   "metadata": {},
   "outputs": [
    {
     "name": "stdout",
     "output_type": "stream",
     "text": [
      "Create sweep with ID: zkj8l8le\n",
      "Sweep URL: https://wandb.ai/ece9603_project/breast-histopathology-classification/sweeps/zkj8l8le\n"
     ]
    }
   ],
   "source": [
    "# Setup sweep hyperparameters\n",
    "sweep_config = {\n",
    "    'name': 'loss_function_evaluation',\n",
    "    'method': 'grid',\n",
    "    'parameters': {\n",
    "        'learning_rate': {\n",
    "            'values': [0.001]\n",
    "        },\n",
    "        'epochs': {\n",
    "            'values': [10]\n",
    "        },\n",
    "        'loss_function': {\n",
    "            'values': ['dice_loss',\n",
    "                       'bce_dice_loss',\n",
    "                       'jaccard_iou_loss',\n",
    "                       'focal_loss',\n",
    "                       'tversky_loss',\n",
    "                       'focal_tversky_loss',\n",
    "                       'bce_with_logits_loss']\n",
    "        }\n",
    "    }\n",
    "}\n",
    "sweep_id = wandb.sweep(sweep_config,\n",
    "                       project=\"breast-histopathology-classification\",\n",
    "                       entity=\"ece9603_project\")"
   ]
  },
  {
   "cell_type": "code",
   "execution_count": 4,
   "metadata": {
    "pycharm": {
     "name": "#%%\n"
    }
   },
   "outputs": [],
   "source": [
    "class CustomImageDataset(Dataset):\n",
    "    def __init__(self, df, transform=None):\n",
    "        self.info = df\n",
    "        self.transform = transform\n",
    "\n",
    "    def __len__(self):\n",
    "        return len(self.info)\n",
    "\n",
    "    def __getitem__(self, idx):\n",
    "        path = self.info.imgPath.values[idx]\n",
    "        label = self.info['class'].values[idx]\n",
    "        image = read_image(path, mode=torchvision.io.image.ImageReadMode.RGB).float()\n",
    "\n",
    "        if self.transform:\n",
    "            image = self.transform(image)\n",
    "\n",
    "        return image, label"
   ]
  },
  {
   "cell_type": "code",
   "execution_count": 5,
   "metadata": {
    "pycharm": {
     "name": "#%%\n"
    },
    "scrolled": true
   },
   "outputs": [
    {
     "name": "stdout",
     "output_type": "stream",
     "text": [
      "   patient  class  posX  posY                                         imgPath\n",
      "0    12954      0  1151  1401  data/12954/0/12954_idx5_x1151_y1401_class0.png\n",
      "1    12954      0  1951  2901  data/12954/0/12954_idx5_x1951_y2901_class0.png\n",
      "2    12954      0   151   501    data/12954/0/12954_idx5_x151_y501_class0.png\n",
      "3    12954      0  1701  2251  data/12954/0/12954_idx5_x1701_y2251_class0.png\n",
      "4    12954      0  1501  2001  data/12954/0/12954_idx5_x1501_y2001_class0.png\n",
      "Number of Unique Patients:  279\n",
      "   patient  class  posX  posY                                         imgPath\n",
      "0    12954      0  1151  1401  data/12954/0/12954_idx5_x1151_y1401_class0.png\n",
      "1    12954      0  1951  2901  data/12954/0/12954_idx5_x1951_y2901_class0.png\n",
      "2    12954      0   151   501    data/12954/0/12954_idx5_x151_y501_class0.png\n",
      "3    12954      0  1701  2251  data/12954/0/12954_idx5_x1701_y2251_class0.png\n",
      "4    12954      0  1501  2001  data/12954/0/12954_idx5_x1501_y2001_class0.png\n",
      "Number of Train Patients:  195\n",
      "      patient  class  posX  posY  \\\n",
      "6566    15634      0  2401  1801   \n",
      "6567    15634      0  1001  1651   \n",
      "6568    15634      0  2051  1351   \n",
      "6569    15634      0  1301  2201   \n",
      "6570    15634      0  1351  1301   \n",
      "\n",
      "                                             imgPath  \n",
      "6566  data/15634/0/15634_idx5_x2401_y1801_class0.png  \n",
      "6567  data/15634/0/15634_idx5_x1001_y1651_class0.png  \n",
      "6568  data/15634/0/15634_idx5_x2051_y1351_class0.png  \n",
      "6569  data/15634/0/15634_idx5_x1301_y2201_class0.png  \n",
      "6570  data/15634/0/15634_idx5_x1351_y1301_class0.png  \n",
      "Number of Validation Patients:  42\n",
      "      patient  class  posX  posY  \\\n",
      "7926    13687      0  2251   251   \n",
      "7927    13687      0  2801   751   \n",
      "7928    13687      0  1551   701   \n",
      "7929    13687      0  1251   651   \n",
      "7930    13687      0  2851  1251   \n",
      "\n",
      "                                             imgPath  \n",
      "7926   data/13687/0/13687_idx5_x2251_y251_class0.png  \n",
      "7927   data/13687/0/13687_idx5_x2801_y751_class0.png  \n",
      "7928   data/13687/0/13687_idx5_x1551_y701_class0.png  \n",
      "7929   data/13687/0/13687_idx5_x1251_y651_class0.png  \n",
      "7930  data/13687/0/13687_idx5_x2851_y1251_class0.png  \n",
      "Number of Test Patients:  42\n"
     ]
    }
   ],
   "source": [
    "df= pd.read_csv(\"breastCancerDataframe.csv\", index_col=0)\n",
    "print(df.head())\n",
    "\n",
    "patientIDs = df.patient.unique()\n",
    "print(\"Number of Unique Patients: \", len(patientIDs))\n",
    "\n",
    "patients_train, temp = train_test_split(patientIDs, test_size=0.3, random_state=42)\n",
    "patients_val, patients_test = train_test_split(temp, test_size=0.5, random_state=42)\n",
    "\n",
    "df_train = df.loc[df['patient'].isin(patients_train)]\n",
    "print(df_train.head())\n",
    "print(\"Number of Train Patients: \", df_train.patient.nunique())\n",
    "\n",
    "df_val = df.loc[df['patient'].isin(patients_val)]\n",
    "print(df_val.head())\n",
    "print(\"Number of Validation Patients: \", df_val.patient.nunique())\n",
    "\n",
    "df_test = df.loc[df['patient'].isin(patients_test)]\n",
    "print(df_test.head())\n",
    "print(\"Number of Test Patients: \", df_test.patient.nunique())"
   ]
  },
  {
   "cell_type": "code",
   "execution_count": null,
   "metadata": {},
   "outputs": [],
   "source": [
    "def resample(sampl):\n",
    "    '''\n",
    "    Applicable only to training data. sampl=0 for undersampling, sampl=1 for oversampling\n",
    "    '''\n",
    "    # Two arrays holding images by class type\n",
    "    class0 = [] # 0 = no cancer\n",
    "    class1 = [] # 1 = cancer\n",
    "    class0_rand = []\n",
    "    class2_rand = []\n",
    "    for i in range(len(df_train)):\n",
    "      if df_train.iloc[i].imgPath.endswith(\"class0.png\"):\n",
    "        class0.append(df_train.iloc[i].imgPath)\n",
    "      elif df_train.iloc[i].imgPath.endswith(\"class1.png\"):\n",
    "        class1.append(df_train.iloc[i].imgPath)\n",
    "    print(\"Initial samples without cancer (Class 0) = \", len(class0))\n",
    "    print(\"initial samples with cancer (Class 1) = \", len(class1))\n",
    "\n",
    "    if (sampl == 0):\n",
    "      # Undersampling\n",
    "      class0_rand = random.sample(class0, len(class1))\n",
    "      class2_rand = class1\n",
    "    elif (sampl == 1):\n",
    "      # Oversampling\n",
    "      ratioBigToSmall = len(class0)//len(class1)\n",
    "      class2_rand = class1\n",
    "      for j in range(ratioBigToSmall - 1):\n",
    "        class2_rand += class1\n",
    "      class2_rand += class1[:len(class0)%len(class1)]\n",
    "      class0_rand = class0\n",
    "    \n",
    "    mixedData = class0_rand + class2_rand\n",
    "    print(\"Size of randomized and resampled training set = \", len(mixedData))\n",
    "    return random.sample(mixedData, len(mixedData))"
   ]
  },
  {
   "cell_type": "code",
   "execution_count": null,
   "metadata": {},
   "outputs": [],
   "source": [
    "# call for Undersampling (this should not be needed)\n",
    "# df_train = resample(0)\n",
    "\n",
    "# call for Oversampling \n",
    "df_train = resample(1)"
   ]
  },
  {
   "cell_type": "code",
   "execution_count": 6,
   "metadata": {
    "pycharm": {
     "name": "#%%\n"
    }
   },
   "outputs": [],
   "source": [
    "BATCH_SIZE = 128\n",
    "\n",
    "transform = transforms.Compose([\n",
    "        #transforms.RandomRotation(45),\n",
    "        transforms.Resize((224,224)),\n",
    "        transforms.RandomHorizontalFlip(),\n",
    "        transforms.RandomVerticalFlip(),\n",
    "        transforms.Normalize([0.485, 0.456, 0.406], [0.229, 0.224, 0.225])])\n",
    "\n",
    "train_dataset = CustomImageDataset(df_train, transform=transform)\n",
    "val_dataset = CustomImageDataset(df_val, transform=transform)\n",
    "test_dataset = CustomImageDataset(df_test, transform=transform)\n",
    "\n",
    "train_dataloader = DataLoader(train_dataset, batch_size=BATCH_SIZE, shuffle=True, drop_last=False)\n",
    "val_dataloader = DataLoader(val_dataset, batch_size=BATCH_SIZE, shuffle=True, drop_last=False)\n",
    "test_dataloader = DataLoader(test_dataset, batch_size=BATCH_SIZE, shuffle=True, drop_last=True)"
   ]
  },
  {
   "cell_type": "code",
   "execution_count": 7,
   "metadata": {
    "pycharm": {
     "name": "#%%\n"
    }
   },
   "outputs": [],
   "source": [
    "# Calculate performance measures\n",
    "def compute_performance(yhat, y, pos_cutoff, evaluation_phase='validation'):\n",
    "\n",
    "    # First, get tp, tn, fp, fn\n",
    "    tp = sum(np.logical_and(yhat >= pos_cutoff, y == 1).numpy())\n",
    "    tn = sum(np.logical_and(yhat < pos_cutoff, y == 0).numpy())\n",
    "    fp = sum(np.logical_and(yhat >= pos_cutoff, y == 0).numpy())\n",
    "    fn = sum(np.logical_and(yhat < pos_cutoff, y == 1).numpy())\n",
    "\n",
    "    print(f\"tp: {tp} tn: {tn} fp: {fp} fn: {fn}\")\n",
    "\n",
    "    # Precision\n",
    "    # \"Of the ones I labeled +, how many are actually +?\"\n",
    "    precision = tp / (tp + fp)\n",
    "\n",
    "    # Recall\n",
    "    # \"Of all the + in the data, how many do I correctly label?\"\n",
    "    recall = tp / (tp + fn)\n",
    "\n",
    "    # Sensitivity\n",
    "    # \"Of all the + in the data, how many do I correctly label?\"\n",
    "    sensitivity = recall\n",
    "\n",
    "    # Specificity\n",
    "    # \"Of all the - in the data, how many do I correctly label?\"\n",
    "    specificity = tn / (fp + tn)\n",
    "\n",
    "    balanced_acc = 0.5*(sensitivity+specificity)\n",
    "\n",
    "    auroc = roc_auc_score(y, yhat)\n",
    "\n",
    "    # Print results\n",
    "    print(\"Balanced Accuracy: \", balanced_acc,\" Specificity: \",specificity, \" AUROC Score: \", auroc,\n",
    "          \" Sensitivity: \", sensitivity,\" Precision: \", precision)\n",
    "\n",
    "    # Log results to WandB\n",
    "    wandb.log({\"{} Balanced Accuracy\".format(evaluation_phase): balanced_acc,\n",
    "               \"{} Specificity\".format(evaluation_phase): specificity,\n",
    "               \"{} Sensitivity\".format(evaluation_phase): sensitivity,\n",
    "               \"{} Precision\".format(evaluation_phase): precision,\n",
    "               \"{} AUROC Score\".format(evaluation_phase): auroc},\n",
    "              commit=False)\n",
    "\n",
    "def init_model():\n",
    "    model = models.efficientnet_b0(pretrained=True)\n",
    "\n",
    "    for param in model.parameters():\n",
    "        param.requires_grad = False\n",
    "\n",
    "    model.classifier = nn.Sequential(\n",
    "        nn.Dropout(0.2),\n",
    "        nn.Linear(1280, 512),\n",
    "        nn.BatchNorm1d(512),\n",
    "        nn.ReLU(),\n",
    "\n",
    "        nn.Dropout(0.2),\n",
    "        nn.Linear(512, 256),\n",
    "        nn.BatchNorm1d(256),\n",
    "        nn.ReLU(),\n",
    "\n",
    "        nn.Linear(256, 1))\n",
    "\n",
    "    def init_weights(m):\n",
    "        if isinstance(m, nn.Linear):\n",
    "            torch.nn.init.xavier_uniform_(m.weight)\n",
    "            m.bias.data.fill_(0.01)\n",
    "\n",
    "    model.apply(init_weights)\n",
    "\n",
    "    return model\n",
    "\n",
    "def train(model, dataloader_train, dataloader_val, device='cpu', epochs=10, early_stop=2, lr=0.001,\n",
    "          loss_function='bce_with_logits_loss', verbose=True):\n",
    "\n",
    "    opt = torch.optim.Adam(model.classifier.parameters(), lr=lr)\n",
    "    criterion = lossFunctions.getLossFunction(loss_function)\n",
    "    criterion.to(device)\n",
    "    model.to(device)\n",
    "\n",
    "    lowest_val_loss, train_loss = np.inf, 0\n",
    "    lowest_val_epoch = 0\n",
    "    epochs_wo_improvement = 0\n",
    "    best_model = copy.deepcopy(model.state_dict())\n",
    "    train_losses, val_losses=[], []\n",
    "    train_preds, train_targets_list = [], []\n",
    "\n",
    "    for e in range(epochs):\n",
    "        epoch_train_loss = 0\n",
    "        epoch_val_loss = 0\n",
    "\n",
    "        model.train()\n",
    "\n",
    "        for inputs, targets in tqdm(dataloader_train):\n",
    "\n",
    "            inputs, targets = inputs.to(device), targets.to(device)\n",
    "\n",
    "            model.zero_grad(set_to_none=True)\n",
    "\n",
    "            train_output = model.forward(inputs).squeeze()\n",
    "            train_preds+=train_output\n",
    "            train_targets_list+=targets\n",
    "            loss = criterion(train_output, targets.float())\n",
    "            loss.backward()\n",
    "            opt.step()\n",
    "\n",
    "            epoch_train_loss+=loss\n",
    "\n",
    "        compute_performance(torch.sigmoid(torch.Tensor(train_preds)), torch.Tensor(train_targets_list), 0.5, evaluation_phase='training')\n",
    "        epoch_train_loss = epoch_train_loss.item()/((len(dataloader_train.dataset)%BATCH_SIZE)*BATCH_SIZE)\n",
    "\n",
    "        train_losses.append(epoch_train_loss)\n",
    "\n",
    "        #VALIDATION\n",
    "\n",
    "        model.eval()\n",
    "        model.zero_grad(set_to_none=True)\n",
    "        val_preds, val_targets_list = [], []\n",
    "\n",
    "        with torch.no_grad():\n",
    "            for val_inputs, val_targets in tqdm(dataloader_val):\n",
    "\n",
    "                val_inputs, val_targets = val_inputs.to(device), val_targets.to(device)\n",
    "\n",
    "                val_output = model.forward(val_inputs).squeeze()\n",
    "                val_preds+=val_output\n",
    "                val_targets_list+=val_targets\n",
    "\n",
    "                epoch_val_loss += criterion(val_output, val_targets.float())\n",
    "\n",
    "            epoch_val_loss = epoch_val_loss.item()/((len(dataloader_val.dataset)%BATCH_SIZE)*BATCH_SIZE)\n",
    "            val_losses.append(epoch_val_loss)\n",
    "\n",
    "            compute_performance(torch.sigmoid(torch.Tensor(val_preds)), torch.Tensor(val_targets_list), 0.5,\n",
    "                                evaluation_phase='validation')\n",
    "\n",
    "        if epoch_val_loss <= lowest_val_loss:\n",
    "            best_model = copy.deepcopy(model.state_dict())\n",
    "            lowest_val_loss = epoch_val_loss\n",
    "            train_loss=epoch_train_loss\n",
    "            lowest_val_epoch=e\n",
    "            epochs_wo_improvement=0\n",
    "        else:\n",
    "            epochs_wo_improvement+=1\n",
    "\n",
    "        if verbose:\n",
    "            print(\"Epoch: {}/{}...\".format(e, epochs), \"Loss: {:.4f}...\".format(epoch_train_loss), \"Val Loss: {:.4f}\".format(epoch_val_loss),)\n",
    "\n",
    "        # Log to wandb project\n",
    "        wandb.log({\"training_loss\": epoch_train_loss, \"validation_loss\": epoch_val_loss})\n",
    "\n",
    "        #early stopping\n",
    "        if epochs_wo_improvement>=early_stop:\n",
    "            if verbose:\n",
    "                print(\"Early Stop no improvement in validation loss in \"+str(early_stop)+\" validation steps\")\n",
    "            break\n",
    "\n",
    "    if verbose:\n",
    "        print(\"\\nLowest Validation Loss: \"+str(lowest_val_loss)+\" at epoch \"+str(lowest_val_epoch)+'\\n')\n",
    "\n",
    "    model.load_state_dict(best_model)\n",
    "\n",
    "    # Record model to wandb\n",
    "    wandb.watch(model)\n",
    "\n",
    "    run_ID = datetime.now().strftime(\"%Y-%m-%d_%H-%M\")\n",
    "    torch.save({'model_state_dict': best_model}, './BestModels/'+str(run_ID)+'_'+loss_function+'_E_'+str(lowest_val_epoch)+'_TL_'+str(round(train_loss, 4))+'_VL_'+str(round(lowest_val_loss, 4))+'.pt')\n",
    "\n",
    "    torch.cuda.empty_cache()\n",
    "\n",
    "    return model\n",
    "\n",
    "def test_model(model, test_dataloader, loss_function='bce_with_logits_loss', device='cuda'):\n",
    "    #TESTING PHASE\n",
    "    model.eval()\n",
    "    model.to(device)\n",
    "    test_preds, test_targets_list = [], []\n",
    "    test_loss = 0\n",
    "    criterion = lossFunctions.getLossFunction(loss_function)\n",
    "    model.zero_grad(set_to_none=True)\n",
    "\n",
    "    with torch.no_grad():\n",
    "\n",
    "        for test_inputs, test_targets in tqdm(test_dataloader):\n",
    "\n",
    "            test_inputs, test_targets = test_inputs.to(device), test_targets.to(device)\n",
    "\n",
    "            test_output = model.forward(test_inputs).squeeze()\n",
    "            test_preds+=test_output\n",
    "            test_targets_list+=test_targets\n",
    "\n",
    "            test_loss += criterion(test_output, test_targets.float())\n",
    "\n",
    "        test_loss = test_loss.item()/((len(test_dataloader.dataset)%BATCH_SIZE)*BATCH_SIZE)\n",
    "        print(\"Test Loss: \", test_loss)\n",
    "\n",
    "        compute_performance(torch.sigmoid(torch.Tensor(test_preds)), torch.Tensor(test_targets_list), 0.5, evaluation_phase='testing')\n",
    "        # Log to wandb project\n",
    "        wandb.log({\"test_loss\": test_loss})"
   ]
  },
  {
   "cell_type": "code",
   "execution_count": 8,
   "metadata": {},
   "outputs": [],
   "source": [
    "def trainAndTestModel():\n",
    "    config_defaults = {\n",
    "        \"learning_rate\": 0.001,\n",
    "        \"epochs\": 10,\n",
    "        \"loss_function\": \"bce_with_logits_loss\"\n",
    "    }\n",
    "    wandb.init(project=\"breast-histopathology-classification\",\n",
    "               entity=\"ece9603_project\",\n",
    "               job_type=\"model_training\",\n",
    "               config=config_defaults)\n",
    "\n",
    "    config = wandb.config\n",
    "    single_model = init_model()\n",
    "    torch.backends.cudnn.benchmark = True\n",
    "    trained_model = train(single_model, train_dataloader, val_dataloader, loss_function=config.loss_function, device='cuda')\n",
    "    test_model(trained_model, test_dataloader, loss_function=config.loss_function)\n",
    "\n",
    "    # Done this training run\n",
    "    wandb.finish()"
   ]
  },
  {
   "cell_type": "code",
   "execution_count": 9,
   "metadata": {},
   "outputs": [
    {
     "name": "stderr",
     "output_type": "stream",
     "text": [
      "\u001b[34m\u001b[1mwandb\u001b[0m: Agent Starting Run: zqkfe0lo with config:\n",
      "\u001b[34m\u001b[1mwandb\u001b[0m: \tepochs: 10\n",
      "\u001b[34m\u001b[1mwandb\u001b[0m: \tlearning_rate: 0.001\n",
      "\u001b[34m\u001b[1mwandb\u001b[0m: \tloss_function: dice_loss\n",
      "\u001b[34m\u001b[1mwandb\u001b[0m: \u001b[33mWARNING\u001b[0m Ignored wandb.init() arg project when running a sweep\n",
      "\u001b[34m\u001b[1mwandb\u001b[0m: \u001b[33mWARNING\u001b[0m Ignored wandb.init() arg entity when running a sweep\n"
     ]
    },
    {
     "data": {
      "text/html": [
       "\n",
       "                    Syncing run <strong><a href=\"https://wandb.ai/ece9603_project/breast-histopathology-classification/runs/zqkfe0lo\" target=\"_blank\">logical-sweep-1</a></strong> to <a href=\"https://wandb.ai/ece9603_project/breast-histopathology-classification\" target=\"_blank\">Weights & Biases</a> (<a href=\"https://docs.wandb.com/integrations/jupyter.html\" target=\"_blank\">docs</a>).<br/>\n",
       "Sweep page: <a href=\"https://wandb.ai/ece9603_project/breast-histopathology-classification/sweeps/zkj8l8le\" target=\"_blank\">https://wandb.ai/ece9603_project/breast-histopathology-classification/sweeps/zkj8l8le</a><br/>\n",
       "\n",
       "                "
      ],
      "text/plain": [
       "<IPython.core.display.HTML object>"
      ]
     },
     "metadata": {},
     "output_type": "display_data"
    },
    {
     "name": "stderr",
     "output_type": "stream",
     "text": [
      "100%|██████████| 1534/1534 [06:41<00:00,  3.82it/s]\n",
      "  0%|          | 0/334 [00:00<?, ?it/s]"
     ]
    },
    {
     "name": "stdout",
     "output_type": "stream",
     "text": [
      "tp: 41799 tn: 125129 fp: 17551 fn: 11755\n",
      "Balanced Accuracy:  0.8287461957364608  Specificity:  0.8769904681805438  AUROC Score:  0.8951537934263344  Sensitivity:  0.7805019232923778  Precision:  0.704279696714406\n"
     ]
    },
    {
     "name": "stderr",
     "output_type": "stream",
     "text": [
      "100%|██████████| 334/334 [02:51<00:00,  1.95it/s]\n",
      "  0%|          | 0/1534 [00:00<?, ?it/s]"
     ]
    },
    {
     "name": "stdout",
     "output_type": "stream",
     "text": [
      "tp: 11197 tn: 26125 fp: 2449 fn: 2929\n",
      "Balanced Accuracy:  0.8534722806562871  Specificity:  0.914292713655771  AUROC Score:  0.9245955933837114  Sensitivity:  0.7926518476568031  Precision:  0.8205334896673018\n",
      "Epoch: 0/10... Loss: 0.3120... Val Loss: 0.0067\n"
     ]
    },
    {
     "name": "stderr",
     "output_type": "stream",
     "text": [
      "100%|██████████| 1534/1534 [06:08<00:00,  4.17it/s]\n",
      "  0%|          | 0/334 [00:00<?, ?it/s]"
     ]
    },
    {
     "name": "stdout",
     "output_type": "stream",
     "text": [
      "tp: 83913 tn: 251804 fp: 33556 fn: 23195\n",
      "Balanced Accuracy:  0.8329255331172405  Specificity:  0.8824081861508271  AUROC Score:  0.8983138806403654  Sensitivity:  0.7834428800836539  Precision:  0.714341656096502\n"
     ]
    },
    {
     "name": "stderr",
     "output_type": "stream",
     "text": [
      "100%|██████████| 334/334 [01:20<00:00,  4.13it/s]\n",
      "  0%|          | 0/1534 [00:00<?, ?it/s]"
     ]
    },
    {
     "name": "stdout",
     "output_type": "stream",
     "text": [
      "tp: 10825 tn: 26568 fp: 2006 fn: 3301\n",
      "Balanced Accuracy:  0.8480568735929723  Specificity:  0.9297963183313501  AUROC Score:  0.9216866121295864  Sensitivity:  0.7663174288545944  Precision:  0.8436598862130777\n",
      "Epoch: 1/10... Loss: 0.2937... Val Loss: 0.0068\n"
     ]
    },
    {
     "name": "stderr",
     "output_type": "stream",
     "text": [
      "100%|██████████| 1534/1534 [06:33<00:00,  3.90it/s]\n"
     ]
    },
    {
     "name": "stdout",
     "output_type": "stream",
     "text": [
      "tp: 126241 tn: 378865 fp: 49175 fn: 34421\n",
      "Balanced Accuracy:  0.8354355324654308  Specificity:  0.8851158770208392  AUROC Score:  0.9000683515375143  Sensitivity:  0.7857551879100223  Precision:  0.7196663930314224\n"
     ]
    },
    {
     "name": "stderr",
     "output_type": "stream",
     "text": [
      "100%|██████████| 334/334 [01:25<00:00,  3.92it/s]\n"
     ]
    },
    {
     "name": "stdout",
     "output_type": "stream",
     "text": [
      "tp: 10472 tn: 26658 fp: 1916 fn: 3654\n",
      "Balanced Accuracy:  0.8371370412143582  Specificity:  0.9329460348568629  AUROC Score:  0.9174872279334304  Sensitivity:  0.7413280475718533  Precision:  0.8453341943816597\n",
      "Epoch: 2/10... Loss: 0.2875... Val Loss: 0.0072\n",
      "Early Stop no improvement in validation loss in 2 validation steps\n",
      "\n",
      "Lowest Validation Loss: 0.00666744379620803 at epoch 0\n",
      "\n"
     ]
    },
    {
     "name": "stderr",
     "output_type": "stream",
     "text": [
      "100%|██████████| 301/301 [01:23<00:00,  3.60it/s]\n"
     ]
    },
    {
     "name": "stdout",
     "output_type": "stream",
     "text": [
      "Test Loss:  0.008455282257449242\n",
      "tp: 9262 tn: 23941 fp: 3500 fn: 1825\n",
      "Balanced Accuracy:  0.8539232150822056  Specificity:  0.8724536277832441  AUROC Score:  0.9220686751845469  Sensitivity:  0.8353928023811671  Precision:  0.7257483153110798\n"
     ]
    },
    {
     "data": {
      "text/html": [
       "<br/>Waiting for W&B process to finish, PID 26164... <strong style=\"color:green\">(success).</strong>"
      ],
      "text/plain": [
       "<IPython.core.display.HTML object>"
      ]
     },
     "metadata": {},
     "output_type": "display_data"
    },
    {
     "data": {
      "application/vnd.jupyter.widget-view+json": {
       "model_id": "e7ad8230ac564444bbf07aa42f4fc277",
       "version_major": 2,
       "version_minor": 0
      },
      "text/plain": [
       "VBox(children=(Label(value=' 0.00MB of 0.00MB uploaded (0.00MB deduped)\\r'), FloatProgress(value=1.0, max=1.0)…"
      ]
     },
     "metadata": {},
     "output_type": "display_data"
    },
    {
     "data": {
      "text/html": [
       "<style>\n",
       "    table.wandb td:nth-child(1) { padding: 0 10px; text-align: right }\n",
       "    .wandb-row { display: flex; flex-direction: row; flex-wrap: wrap; width: 100% }\n",
       "    .wandb-col { display: flex; flex-direction: column; flex-basis: 100%; flex: 1; padding: 10px; }\n",
       "    </style>\n",
       "<div class=\"wandb-row\"><div class=\"wandb-col\">\n",
       "<h3>Run history:</h3><br/><table class=\"wandb\"><tr><td>(model-testing) AUROC Score</td><td>▁</td></tr><tr><td>(model-testing) Balanced Accuracy</td><td>▁</td></tr><tr><td>(model-testing) Precision</td><td>▁</td></tr><tr><td>(model-testing) Sensitivity</td><td>▁</td></tr><tr><td>(model-testing) Specificity</td><td>▁</td></tr><tr><td>(model-training) AUROC Score</td><td>▁▆█</td></tr><tr><td>(model-training) Balanced Accuracy</td><td>▁▅█</td></tr><tr><td>(model-training) Precision</td><td>▁▆█</td></tr><tr><td>(model-training) Sensitivity</td><td>▁▅█</td></tr><tr><td>(model-training) Specificity</td><td>▁▆█</td></tr><tr><td>(model-validation) AUROC Score</td><td>█▅▁</td></tr><tr><td>(model-validation) Balanced Accuracy</td><td>█▆▁</td></tr><tr><td>(model-validation) Precision</td><td>▁██</td></tr><tr><td>(model-validation) Sensitivity</td><td>█▄▁</td></tr><tr><td>(model-validation) Specificity</td><td>▁▇█</td></tr><tr><td>test_loss</td><td>▁</td></tr><tr><td>training_loss</td><td>█▃▁</td></tr><tr><td>validation_loss</td><td>▁▂█</td></tr></table><br/></div><div class=\"wandb-col\">\n",
       "<h3>Run summary:</h3><br/><table class=\"wandb\"><tr><td>(model-testing) AUROC Score</td><td>0.92207</td></tr><tr><td>(model-testing) Balanced Accuracy</td><td>0.85392</td></tr><tr><td>(model-testing) Precision</td><td>0.72575</td></tr><tr><td>(model-testing) Sensitivity</td><td>0.83539</td></tr><tr><td>(model-testing) Specificity</td><td>0.87245</td></tr><tr><td>(model-training) AUROC Score</td><td>0.90007</td></tr><tr><td>(model-training) Balanced Accuracy</td><td>0.83544</td></tr><tr><td>(model-training) Precision</td><td>0.71967</td></tr><tr><td>(model-training) Sensitivity</td><td>0.78576</td></tr><tr><td>(model-training) Specificity</td><td>0.88512</td></tr><tr><td>(model-validation) AUROC Score</td><td>0.91749</td></tr><tr><td>(model-validation) Balanced Accuracy</td><td>0.83714</td></tr><tr><td>(model-validation) Precision</td><td>0.84533</td></tr><tr><td>(model-validation) Sensitivity</td><td>0.74133</td></tr><tr><td>(model-validation) Specificity</td><td>0.93295</td></tr><tr><td>test_loss</td><td>0.00846</td></tr><tr><td>training_loss</td><td>0.28751</td></tr><tr><td>validation_loss</td><td>0.00719</td></tr></table>\n",
       "</div></div>\n",
       "Synced 5 W&B file(s), 0 media file(s), 0 artifact file(s) and 0 other file(s)\n",
       "<br/>Synced <strong style=\"color:#cdcd00\">logical-sweep-1</strong>: <a href=\"https://wandb.ai/ece9603_project/breast-histopathology-classification/runs/zqkfe0lo\" target=\"_blank\">https://wandb.ai/ece9603_project/breast-histopathology-classification/runs/zqkfe0lo</a><br/>\n",
       "Find logs at: <code>.\\wandb\\run-20211125_144012-zqkfe0lo\\logs</code><br/>\n"
      ],
      "text/plain": [
       "<IPython.core.display.HTML object>"
      ]
     },
     "metadata": {},
     "output_type": "display_data"
    },
    {
     "name": "stderr",
     "output_type": "stream",
     "text": [
      "\u001b[34m\u001b[1mwandb\u001b[0m: Agent Starting Run: edekz9xe with config:\n",
      "\u001b[34m\u001b[1mwandb\u001b[0m: \tepochs: 10\n",
      "\u001b[34m\u001b[1mwandb\u001b[0m: \tlearning_rate: 0.001\n",
      "\u001b[34m\u001b[1mwandb\u001b[0m: \tloss_function: bce_dice_loss\n",
      "\u001b[34m\u001b[1mwandb\u001b[0m: \u001b[33mWARNING\u001b[0m Ignored wandb.init() arg project when running a sweep\n",
      "\u001b[34m\u001b[1mwandb\u001b[0m: \u001b[33mWARNING\u001b[0m Ignored wandb.init() arg entity when running a sweep\n"
     ]
    },
    {
     "data": {
      "text/html": [
       "\n",
       "                    Syncing run <strong><a href=\"https://wandb.ai/ece9603_project/breast-histopathology-classification/runs/edekz9xe\" target=\"_blank\">fresh-sweep-2</a></strong> to <a href=\"https://wandb.ai/ece9603_project/breast-histopathology-classification\" target=\"_blank\">Weights & Biases</a> (<a href=\"https://docs.wandb.com/integrations/jupyter.html\" target=\"_blank\">docs</a>).<br/>\n",
       "Sweep page: <a href=\"https://wandb.ai/ece9603_project/breast-histopathology-classification/sweeps/zkj8l8le\" target=\"_blank\">https://wandb.ai/ece9603_project/breast-histopathology-classification/sweeps/zkj8l8le</a><br/>\n",
       "\n",
       "                "
      ],
      "text/plain": [
       "<IPython.core.display.HTML object>"
      ]
     },
     "metadata": {},
     "output_type": "display_data"
    },
    {
     "name": "stderr",
     "output_type": "stream",
     "text": [
      "100%|██████████| 1534/1534 [05:46<00:00,  4.42it/s]\n",
      "  0%|          | 0/334 [00:00<?, ?it/s]"
     ]
    },
    {
     "name": "stdout",
     "output_type": "stream",
     "text": [
      "tp: 40468 tn: 129131 fp: 13549 fn: 13086\n",
      "Balanced Accuracy:  0.8303438764908759  Specificity:  0.9050392486683487  AUROC Score:  0.9204507243050173  Sensitivity:  0.7556485043134032  Precision:  0.7491715571023937\n"
     ]
    },
    {
     "name": "stderr",
     "output_type": "stream",
     "text": [
      "100%|██████████| 334/334 [01:13<00:00,  4.53it/s]\n",
      "  0%|          | 0/1534 [00:00<?, ?it/s]"
     ]
    },
    {
     "name": "stdout",
     "output_type": "stream",
     "text": [
      "tp: 10446 tn: 26905 fp: 1669 fn: 3680\n",
      "Balanced Accuracy:  0.8405388633952577  Specificity:  0.941590256876881  AUROC Score:  0.9417169117316608  Sensitivity:  0.7394874699136345  Precision:  0.8622368964094098\n",
      "Epoch: 0/10... Loss: 0.7558... Val Loss: 0.0194\n"
     ]
    },
    {
     "name": "stderr",
     "output_type": "stream",
     "text": [
      "100%|██████████| 1534/1534 [06:08<00:00,  4.16it/s]\n",
      "  0%|          | 0/334 [00:00<?, ?it/s]"
     ]
    },
    {
     "name": "stdout",
     "output_type": "stream",
     "text": [
      "tp: 82068 tn: 259401 fp: 25959 fn: 25040\n",
      "Balanced Accuracy:  0.8376239870430333  Specificity:  0.9090306980656013  AUROC Score:  0.9263475571207906  Sensitivity:  0.7662172760204653  Precision:  0.7596989641478519\n"
     ]
    },
    {
     "name": "stderr",
     "output_type": "stream",
     "text": [
      "100%|██████████| 334/334 [01:20<00:00,  4.17it/s]\n",
      "  0%|          | 0/1534 [00:00<?, ?it/s]"
     ]
    },
    {
     "name": "stdout",
     "output_type": "stream",
     "text": [
      "tp: 10575 tn: 26876 fp: 1698 fn: 3551\n",
      "Balanced Accuracy:  0.844597457487498  Specificity:  0.9405753482186603  AUROC Score:  0.9409732051270985  Sensitivity:  0.7486195667563358  Precision:  0.8616475189440235\n",
      "Epoch: 1/10... Loss: 0.6992... Val Loss: 0.0194\n"
     ]
    },
    {
     "name": "stderr",
     "output_type": "stream",
     "text": [
      "100%|██████████| 1534/1534 [06:41<00:00,  3.83it/s]\n"
     ]
    },
    {
     "name": "stdout",
     "output_type": "stream",
     "text": [
      "tp: 124002 tn: 390036 fp: 38004 fn: 36660\n",
      "Balanced Accuracy: "
     ]
    },
    {
     "name": "stderr",
     "output_type": "stream",
     "text": [
      "  0%|          | 0/334 [00:00<?, ?it/s]"
     ]
    },
    {
     "name": "stdout",
     "output_type": "stream",
     "text": [
      " 0.8415165018612698  Specificity:  0.9112139052425007  AUROC Score:  0.929634442697002  Sensitivity:  0.7718190984800388  Precision:  0.7654160957001592\n"
     ]
    },
    {
     "name": "stderr",
     "output_type": "stream",
     "text": [
      "100%|██████████| 334/334 [01:27<00:00,  3.82it/s]\n",
      "  0%|          | 0/1534 [00:00<?, ?it/s]"
     ]
    },
    {
     "name": "stdout",
     "output_type": "stream",
     "text": [
      "tp: 10580 tn: 26810 fp: 1764 fn: 3546\n",
      "Balanced Accuracy:  0.843619540049126  Specificity:  0.938265556099951  AUROC Score:  0.9405584642079933  Sensitivity:  0.748973523998301  Precision:  0.857096565132858\n",
      "Epoch: 2/10... Loss: 0.6781... Val Loss: 0.0195\n"
     ]
    },
    {
     "name": "stderr",
     "output_type": "stream",
     "text": [
      "100%|██████████| 1534/1534 [06:48<00:00,  3.75it/s]\n"
     ]
    },
    {
     "name": "stdout",
     "output_type": "stream",
     "text": [
      "tp: 166219 tn: 521074 fp: 49646 fn: 47997\n"
     ]
    },
    {
     "name": "stderr",
     "output_type": "stream",
     "text": [
      "  0%|          | 0/334 [00:00<?, ?it/s]"
     ]
    },
    {
     "name": "stdout",
     "output_type": "stream",
     "text": [
      "Balanced Accuracy:  0.8444763702999487  Specificity:  0.9130116344266891  AUROC Score:  0.9318695208515501  Sensitivity:  0.7759411061732083  Precision:  0.7700136659486253\n"
     ]
    },
    {
     "name": "stderr",
     "output_type": "stream",
     "text": [
      "100%|██████████| 334/334 [01:27<00:00,  3.81it/s]\n"
     ]
    },
    {
     "name": "stdout",
     "output_type": "stream",
     "text": [
      "tp: 10610 tn: 26799 fp: 1775 fn: 3516\n",
      "Balanced Accuracy:  0.8444889290984624  Specificity:  0.9378805907468328  AUROC Score:  0.9404423274848774  Sensitivity:  0.751097267450092  Precision:  0.8566814695195801\n",
      "Epoch: 3/10... Loss: 0.6650... Val Loss: 0.0196\n",
      "Early Stop no improvement in validation loss in 2 validation steps\n",
      "\n",
      "Lowest Validation Loss: 0.019382781104037638 at epoch 1\n",
      "\n"
     ]
    },
    {
     "name": "stderr",
     "output_type": "stream",
     "text": [
      "100%|██████████| 301/301 [01:08<00:00,  4.41it/s]\n"
     ]
    },
    {
     "name": "stdout",
     "output_type": "stream",
     "text": [
      "Test Loss:  0.02207003870318013\n",
      "tp: 8874 tn: 24798 fp: 2647 fn: 2209\n",
      "Balanced Accuracy:  0.8521191472870524  Specificity:  0.9035525596647841  AUROC Score:  0.9338051214188402  Sensitivity:  0.8006857349093206  Precision:  0.7702456383994445\n"
     ]
    },
    {
     "data": {
      "text/html": [
       "<br/>Waiting for W&B process to finish, PID 26904... <strong style=\"color:green\">(success).</strong>"
      ],
      "text/plain": [
       "<IPython.core.display.HTML object>"
      ]
     },
     "metadata": {},
     "output_type": "display_data"
    },
    {
     "data": {
      "application/vnd.jupyter.widget-view+json": {
       "model_id": "124f8a4a0b20415da2b82e3248eff740",
       "version_major": 2,
       "version_minor": 0
      },
      "text/plain": [
       "VBox(children=(Label(value=' 0.00MB of 0.00MB uploaded (0.00MB deduped)\\r'), FloatProgress(value=1.0, max=1.0)…"
      ]
     },
     "metadata": {},
     "output_type": "display_data"
    },
    {
     "data": {
      "text/html": [
       "<style>\n",
       "    table.wandb td:nth-child(1) { padding: 0 10px; text-align: right }\n",
       "    .wandb-row { display: flex; flex-direction: row; flex-wrap: wrap; width: 100% }\n",
       "    .wandb-col { display: flex; flex-direction: column; flex-basis: 100%; flex: 1; padding: 10px; }\n",
       "    </style>\n",
       "<div class=\"wandb-row\"><div class=\"wandb-col\">\n",
       "<h3>Run history:</h3><br/><table class=\"wandb\"><tr><td>(model-testing) AUROC Score</td><td>▁</td></tr><tr><td>(model-testing) Balanced Accuracy</td><td>▁</td></tr><tr><td>(model-testing) Precision</td><td>▁</td></tr><tr><td>(model-testing) Sensitivity</td><td>▁</td></tr><tr><td>(model-testing) Specificity</td><td>▁</td></tr><tr><td>(model-training) AUROC Score</td><td>▁▅▇█</td></tr><tr><td>(model-training) Balanced Accuracy</td><td>▁▅▇█</td></tr><tr><td>(model-training) Precision</td><td>▁▅▆█</td></tr><tr><td>(model-training) Sensitivity</td><td>▁▅▇█</td></tr><tr><td>(model-training) Specificity</td><td>▁▅▆█</td></tr><tr><td>(model-validation) AUROC Score</td><td>█▄▂▁</td></tr><tr><td>(model-validation) Balanced Accuracy</td><td>▁█▆█</td></tr><tr><td>(model-validation) Precision</td><td>█▇▂▁</td></tr><tr><td>(model-validation) Sensitivity</td><td>▁▇▇█</td></tr><tr><td>(model-validation) Specificity</td><td>█▆▂▁</td></tr><tr><td>test_loss</td><td>▁</td></tr><tr><td>training_loss</td><td>█▄▂▁</td></tr><tr><td>validation_loss</td><td>▂▁▄█</td></tr></table><br/></div><div class=\"wandb-col\">\n",
       "<h3>Run summary:</h3><br/><table class=\"wandb\"><tr><td>(model-testing) AUROC Score</td><td>0.93381</td></tr><tr><td>(model-testing) Balanced Accuracy</td><td>0.85212</td></tr><tr><td>(model-testing) Precision</td><td>0.77025</td></tr><tr><td>(model-testing) Sensitivity</td><td>0.80069</td></tr><tr><td>(model-testing) Specificity</td><td>0.90355</td></tr><tr><td>(model-training) AUROC Score</td><td>0.93187</td></tr><tr><td>(model-training) Balanced Accuracy</td><td>0.84448</td></tr><tr><td>(model-training) Precision</td><td>0.77001</td></tr><tr><td>(model-training) Sensitivity</td><td>0.77594</td></tr><tr><td>(model-training) Specificity</td><td>0.91301</td></tr><tr><td>(model-validation) AUROC Score</td><td>0.94044</td></tr><tr><td>(model-validation) Balanced Accuracy</td><td>0.84449</td></tr><tr><td>(model-validation) Precision</td><td>0.85668</td></tr><tr><td>(model-validation) Sensitivity</td><td>0.7511</td></tr><tr><td>(model-validation) Specificity</td><td>0.93788</td></tr><tr><td>test_loss</td><td>0.02207</td></tr><tr><td>training_loss</td><td>0.66504</td></tr><tr><td>validation_loss</td><td>0.01964</td></tr></table>\n",
       "</div></div>\n",
       "Synced 5 W&B file(s), 0 media file(s), 0 artifact file(s) and 0 other file(s)\n",
       "<br/>Synced <strong style=\"color:#cdcd00\">fresh-sweep-2</strong>: <a href=\"https://wandb.ai/ece9603_project/breast-histopathology-classification/runs/edekz9xe\" target=\"_blank\">https://wandb.ai/ece9603_project/breast-histopathology-classification/runs/edekz9xe</a><br/>\n",
       "Find logs at: <code>.\\wandb\\run-20211125_150857-edekz9xe\\logs</code><br/>\n"
      ],
      "text/plain": [
       "<IPython.core.display.HTML object>"
      ]
     },
     "metadata": {},
     "output_type": "display_data"
    },
    {
     "name": "stderr",
     "output_type": "stream",
     "text": [
      "\u001b[34m\u001b[1mwandb\u001b[0m: Agent Starting Run: tqg55rzm with config:\n",
      "\u001b[34m\u001b[1mwandb\u001b[0m: \tepochs: 10\n",
      "\u001b[34m\u001b[1mwandb\u001b[0m: \tlearning_rate: 0.001\n",
      "\u001b[34m\u001b[1mwandb\u001b[0m: \tloss_function: jaccard_iou_loss\n",
      "\u001b[34m\u001b[1mwandb\u001b[0m: \u001b[33mWARNING\u001b[0m Ignored wandb.init() arg project when running a sweep\n",
      "\u001b[34m\u001b[1mwandb\u001b[0m: \u001b[33mWARNING\u001b[0m Ignored wandb.init() arg entity when running a sweep\n"
     ]
    },
    {
     "data": {
      "text/html": [
       "\n",
       "                    Syncing run <strong><a href=\"https://wandb.ai/ece9603_project/breast-histopathology-classification/runs/tqg55rzm\" target=\"_blank\">chocolate-sweep-3</a></strong> to <a href=\"https://wandb.ai/ece9603_project/breast-histopathology-classification\" target=\"_blank\">Weights & Biases</a> (<a href=\"https://docs.wandb.com/integrations/jupyter.html\" target=\"_blank\">docs</a>).<br/>\n",
       "Sweep page: <a href=\"https://wandb.ai/ece9603_project/breast-histopathology-classification/sweeps/zkj8l8le\" target=\"_blank\">https://wandb.ai/ece9603_project/breast-histopathology-classification/sweeps/zkj8l8le</a><br/>\n",
       "\n",
       "                "
      ],
      "text/plain": [
       "<IPython.core.display.HTML object>"
      ]
     },
     "metadata": {},
     "output_type": "display_data"
    },
    {
     "name": "stderr",
     "output_type": "stream",
     "text": [
      "100%|██████████| 1534/1534 [05:46<00:00,  4.43it/s]\n",
      "  0%|          | 0/334 [00:00<?, ?it/s]"
     ]
    },
    {
     "name": "stdout",
     "output_type": "stream",
     "text": [
      "tp: 41782 tn: 124947 fp: 17733 fn: 11772\n",
      "Balanced Accuracy:  0.8279496865727725  Specificity:  0.8757148864592095  AUROC Score:  0.8951359971964817  Sensitivity:  0.7801844866863353  Precision:  0.7020415021423171\n"
     ]
    },
    {
     "name": "stderr",
     "output_type": "stream",
     "text": [
      "100%|██████████| 334/334 [01:16<00:00,  4.38it/s]\n",
      "  0%|          | 0/1534 [00:00<?, ?it/s]"
     ]
    },
    {
     "name": "stdout",
     "output_type": "stream",
     "text": [
      "tp: 10696 tn: 26557 fp: 2017 fn: 3430\n",
      "Balanced Accuracy:  0.8432983424950624  Specificity:  0.929411352978232  AUROC Score:  0.9141481094749044  Sensitivity:  0.757185332011893  Precision:  0.8413435066467395\n",
      "Epoch: 0/10... Loss: 0.4875... Val Loss: 0.0114\n"
     ]
    },
    {
     "name": "stderr",
     "output_type": "stream",
     "text": [
      "100%|██████████| 1534/1534 [06:02<00:00,  4.23it/s]\n",
      "  0%|          | 0/334 [00:00<?, ?it/s]"
     ]
    },
    {
     "name": "stdout",
     "output_type": "stream",
     "text": [
      "tp: 83816 tn: 251476 fp: 33884 fn: 23292\n",
      "Balanced Accuracy:  0.8318980064914134  Specificity:  0.8812587608634707  AUROC Score:  0.8966942832168991  Sensitivity:  0.7825372521193562  Precision:  0.7121155480033985\n"
     ]
    },
    {
     "name": "stderr",
     "output_type": "stream",
     "text": [
      "100%|██████████| 334/334 [01:20<00:00,  4.13it/s]\n",
      "  0%|          | 0/1534 [00:00<?, ?it/s]"
     ]
    },
    {
     "name": "stdout",
     "output_type": "stream",
     "text": [
      "tp: 10864 tn: 26393 fp: 2181 fn: 3262\n",
      "Balanced Accuracy:  0.8463750824368325  Specificity:  0.9236718695317422  AUROC Score:  0.9183327985119595  Sensitivity:  0.7690782953419227  Precision:  0.832809505557685\n",
      "Epoch: 1/10... Loss: 0.4657... Val Loss: 0.0113\n"
     ]
    },
    {
     "name": "stderr",
     "output_type": "stream",
     "text": [
      "100%|██████████| 1534/1534 [06:28<00:00,  3.95it/s]\n"
     ]
    },
    {
     "name": "stdout",
     "output_type": "stream",
     "text": [
      "tp: 126046 tn: 378651 fp: 49389 fn: 34616\n",
      "Balanced Accuracy:  0.8345786917279462  Specificity:  0.8846159237454444  AUROC Score:  0.8984080615367569  Sensitivity:  0.784541459710448  Precision:  0.71847692877704\n"
     ]
    },
    {
     "name": "stderr",
     "output_type": "stream",
     "text": [
      "100%|██████████| 334/334 [01:26<00:00,  3.85it/s]\n",
      "  0%|          | 0/1534 [00:00<?, ?it/s]"
     ]
    },
    {
     "name": "stdout",
     "output_type": "stream",
     "text": [
      "tp: 11108 tn: 26179 fp: 2395 fn: 3018\n",
      "Balanced Accuracy:  0.8512669761604508  Specificity:  0.9161825435710786  AUROC Score:  0.9241166808366829  Sensitivity:  0.786351408749823  Precision:  0.8226320077019922\n",
      "Epoch: 2/10... Loss: 0.4552... Val Loss: 0.0111\n"
     ]
    },
    {
     "name": "stderr",
     "output_type": "stream",
     "text": [
      "100%|██████████| 1534/1534 [06:43<00:00,  3.81it/s]\n"
     ]
    },
    {
     "name": "stdout",
     "output_type": "stream",
     "text": [
      "tp: 168735 tn: 505824 fp: 64896 fn: 45481\n"
     ]
    },
    {
     "name": "stderr",
     "output_type": "stream",
     "text": [
      "  0%|          | 0/334 [00:00<?, ?it/s]"
     ]
    },
    {
     "name": "stdout",
     "output_type": "stream",
     "text": [
      "Balanced Accuracy:  0.8369886307189118  Specificity:  0.8862910008410428  AUROC Score:  0.8999224394805558  Sensitivity:  0.7876862605967808  Precision:  0.7222286426030792\n"
     ]
    },
    {
     "name": "stderr",
     "output_type": "stream",
     "text": [
      "100%|██████████| 334/334 [01:26<00:00,  3.85it/s]\n",
      "  0%|          | 0/1534 [00:00<?, ?it/s]"
     ]
    },
    {
     "name": "stdout",
     "output_type": "stream",
     "text": [
      "tp: 10858 tn: 26588 fp: 1986 fn: 3268\n",
      "Balanced Accuracy:  0.8495749009942921  Specificity:  0.9304962553370196  AUROC Score:  0.9276389480744552  Sensitivity:  0.7686535466515645  Precision:  0.8453752725007786\n",
      "Epoch: 3/10... Loss: 0.4480... Val Loss: 0.0110\n"
     ]
    },
    {
     "name": "stderr",
     "output_type": "stream",
     "text": [
      "100%|██████████| 1534/1534 [06:53<00:00,  3.71it/s]\n"
     ]
    },
    {
     "name": "stdout",
     "output_type": "stream",
     "text": [
      "tp: 211251 tn: 633298 fp: 80102 fn: 56519\n"
     ]
    },
    {
     "name": "stderr",
     "output_type": "stream",
     "text": [
      "  0%|          | 0/334 [00:00<?, ?it/s]"
     ]
    },
    {
     "name": "stdout",
     "output_type": "stream",
     "text": [
      "Balanced Accuracy:  0.8383225172773637  Specificity:  0.8877179702831511  AUROC Score:  0.9005918926835299  Sensitivity:  0.7889270642715763  Precision:  0.72506890267133\n"
     ]
    },
    {
     "name": "stderr",
     "output_type": "stream",
     "text": [
      "100%|██████████| 334/334 [01:27<00:00,  3.81it/s]\n",
      "  0%|          | 0/1534 [00:00<?, ?it/s]"
     ]
    },
    {
     "name": "stdout",
     "output_type": "stream",
     "text": [
      "tp: 10737 tn: 26400 fp: 2174 fn: 3389\n",
      "Balanced Accuracy:  0.842002314439867  Specificity:  0.9239168474837265  AUROC Score:  0.9242701779238283  Sensitivity:  0.7600877813960074  Precision:  0.8316164510882194\n",
      "Epoch: 4/10... Loss: 0.4476... Val Loss: 0.0115\n"
     ]
    },
    {
     "name": "stderr",
     "output_type": "stream",
     "text": [
      "100%|██████████| 1534/1534 [07:06<00:00,  3.60it/s]\n"
     ]
    },
    {
     "name": "stdout",
     "output_type": "stream",
     "text": [
      "tp: 253927 tn: 761084 fp: 94996 fn: 67397\n"
     ]
    },
    {
     "name": "stderr",
     "output_type": "stream",
     "text": [
      "  0%|          | 0/334 [00:00<?, ?it/s]"
     ]
    },
    {
     "name": "stdout",
     "output_type": "stream",
     "text": [
      "Balanced Accuracy:  0.839642970830281  Specificity:  0.8890337351649379  AUROC Score:  0.901652342114502  Sensitivity:  0.7902522064956243  Precision:  0.7277450898908928\n"
     ]
    },
    {
     "name": "stderr",
     "output_type": "stream",
     "text": [
      "100%|██████████| 334/334 [01:32<00:00,  3.62it/s]\n",
      "  0%|          | 0/1534 [00:00<?, ?it/s]"
     ]
    },
    {
     "name": "stdout",
     "output_type": "stream",
     "text": [
      "tp: 11331 tn: 26166 fp: 2408 fn: 2795\n",
      "Balanced Accuracy:  0.8589327431294316  Specificity:  0.9157275845173934  AUROC Score:  0.930616711542542  Sensitivity:  0.8021379017414696  Precision:  0.824732513283354\n",
      "Epoch: 5/10... Loss: 0.4411... Val Loss: 0.0106\n"
     ]
    },
    {
     "name": "stderr",
     "output_type": "stream",
     "text": [
      "100%|██████████| 1534/1534 [07:21<00:00,  3.47it/s]\n"
     ]
    },
    {
     "name": "stdout",
     "output_type": "stream",
     "text": [
      "tp: 296444 tn: 889311 fp: 109449 fn: 78434\n"
     ]
    },
    {
     "name": "stderr",
     "output_type": "stream",
     "text": [
      "  0%|          | 0/334 [00:00<?, ?it/s]"
     ]
    },
    {
     "name": "stdout",
     "output_type": "stream",
     "text": [
      "Balanced Accuracy:  0.8405948567058571  Specificity:  0.8904151147422804  AUROC Score:  0.9023386353818144  Sensitivity:  0.7907745986694338  Precision:  0.7303501169027306\n"
     ]
    },
    {
     "name": "stderr",
     "output_type": "stream",
     "text": [
      "100%|██████████| 334/334 [01:37<00:00,  3.43it/s]\n",
      "  0%|          | 0/1534 [00:00<?, ?it/s]"
     ]
    },
    {
     "name": "stdout",
     "output_type": "stream",
     "text": [
      "tp: 10647 tn: 26650 fp: 1924 fn: 3479\n",
      "Balanced Accuracy:  0.8431913055476147  Specificity:  0.9326660600545951  AUROC Score:  0.9291963624165798  Sensitivity:  0.7537165510406343  Precision:  0.8469493278179938\n",
      "Epoch: 6/10... Loss: 0.4387... Val Loss: 0.0113\n"
     ]
    },
    {
     "name": "stderr",
     "output_type": "stream",
     "text": [
      "100%|██████████| 1534/1534 [07:53<00:00,  3.24it/s]\n"
     ]
    },
    {
     "name": "stdout",
     "output_type": "stream",
     "text": [
      "tp: 339065 tn: 1017534 fp: 123906 fn: 89367\n"
     ]
    },
    {
     "name": "stderr",
     "output_type": "stream",
     "text": [
      "  0%|          | 0/334 [00:00<?, ?it/s]"
     ]
    },
    {
     "name": "stdout",
     "output_type": "stream",
     "text": [
      "Balanced Accuracy:  0.8414283917598024  Specificity:  0.891447645079899  AUROC Score:  0.9030983490380915  Sensitivity:  0.7914091384397057  Precision:  0.7323676860969693\n"
     ]
    },
    {
     "name": "stderr",
     "output_type": "stream",
     "text": [
      "100%|██████████| 334/334 [01:45<00:00,  3.16it/s]\n"
     ]
    },
    {
     "name": "stdout",
     "output_type": "stream",
     "text": [
      "tp: 10688 tn: 26584 fp: 1990 fn: 3438\n",
      "Balanced Accuracy:  0.8434876341803172  Specificity:  0.9303562679358858  AUROC Score:  0.9309556565082581  Sensitivity:  0.7566190004247487  Precision:  0.8430351790503234\n",
      "Epoch: 7/10... Loss: 0.4375... Val Loss: 0.0113\n",
      "Early Stop no improvement in validation loss in 2 validation steps\n",
      "\n",
      "Lowest Validation Loss: 0.010587677359580994 at epoch 5\n",
      "\n"
     ]
    },
    {
     "name": "stderr",
     "output_type": "stream",
     "text": [
      "100%|██████████| 301/301 [01:14<00:00,  4.02it/s]\n"
     ]
    },
    {
     "name": "stdout",
     "output_type": "stream",
     "text": [
      "Test Loss:  0.013271440421381304\n",
      "tp: 9420 tn: 23901 fp: 3540 fn: 1667\n",
      "Balanced Accuracy:  0.8603198409226276  Specificity:  0.8709959549579097  AUROC Score:  0.9190825725145967  Sensitivity:  0.8496437268873456  Precision:  0.7268518518518519\n"
     ]
    },
    {
     "data": {
      "text/html": [
       "<br/>Waiting for W&B process to finish, PID 22604... <strong style=\"color:green\">(success).</strong>"
      ],
      "text/plain": [
       "<IPython.core.display.HTML object>"
      ]
     },
     "metadata": {},
     "output_type": "display_data"
    },
    {
     "data": {
      "application/vnd.jupyter.widget-view+json": {
       "model_id": "d7102de27610467b83d7627c358b8775",
       "version_major": 2,
       "version_minor": 0
      },
      "text/plain": [
       "VBox(children=(Label(value=' 0.00MB of 0.00MB uploaded (0.00MB deduped)\\r'), FloatProgress(value=1.0, max=1.0)…"
      ]
     },
     "metadata": {},
     "output_type": "display_data"
    },
    {
     "data": {
      "text/html": [
       "<style>\n",
       "    table.wandb td:nth-child(1) { padding: 0 10px; text-align: right }\n",
       "    .wandb-row { display: flex; flex-direction: row; flex-wrap: wrap; width: 100% }\n",
       "    .wandb-col { display: flex; flex-direction: column; flex-basis: 100%; flex: 1; padding: 10px; }\n",
       "    </style>\n",
       "<div class=\"wandb-row\"><div class=\"wandb-col\">\n",
       "<h3>Run history:</h3><br/><table class=\"wandb\"><tr><td>(model-testing) AUROC Score</td><td>▁</td></tr><tr><td>(model-testing) Balanced Accuracy</td><td>▁</td></tr><tr><td>(model-testing) Precision</td><td>▁</td></tr><tr><td>(model-testing) Sensitivity</td><td>▁</td></tr><tr><td>(model-testing) Specificity</td><td>▁</td></tr><tr><td>(model-training) AUROC Score</td><td>▁▂▄▅▆▇▇█</td></tr><tr><td>(model-training) Balanced Accuracy</td><td>▁▃▄▆▆▇██</td></tr><tr><td>(model-training) Precision</td><td>▁▃▅▆▆▇██</td></tr><tr><td>(model-training) Sensitivity</td><td>▁▂▄▆▆▇██</td></tr><tr><td>(model-training) Specificity</td><td>▁▃▅▆▆▇██</td></tr><tr><td>(model-validation) AUROC Score</td><td>▁▃▅▇▅█▇█</td></tr><tr><td>(model-validation) Balanced Accuracy</td><td>▂▃▅▄▁█▁▂</td></tr><tr><td>(model-validation) Precision</td><td>▆▄▁█▄▂█▇</td></tr><tr><td>(model-validation) Sensitivity</td><td>▂▃▆▃▂█▁▁</td></tr><tr><td>(model-validation) Specificity</td><td>▇▄▁▇▄▁█▇</td></tr><tr><td>test_loss</td><td>▁</td></tr><tr><td>training_loss</td><td>█▅▃▂▂▂▁▁</td></tr><tr><td>validation_loss</td><td>▇▆▅▄█▁▇▇</td></tr></table><br/></div><div class=\"wandb-col\">\n",
       "<h3>Run summary:</h3><br/><table class=\"wandb\"><tr><td>(model-testing) AUROC Score</td><td>0.91908</td></tr><tr><td>(model-testing) Balanced Accuracy</td><td>0.86032</td></tr><tr><td>(model-testing) Precision</td><td>0.72685</td></tr><tr><td>(model-testing) Sensitivity</td><td>0.84964</td></tr><tr><td>(model-testing) Specificity</td><td>0.871</td></tr><tr><td>(model-training) AUROC Score</td><td>0.9031</td></tr><tr><td>(model-training) Balanced Accuracy</td><td>0.84143</td></tr><tr><td>(model-training) Precision</td><td>0.73237</td></tr><tr><td>(model-training) Sensitivity</td><td>0.79141</td></tr><tr><td>(model-training) Specificity</td><td>0.89145</td></tr><tr><td>(model-validation) AUROC Score</td><td>0.93096</td></tr><tr><td>(model-validation) Balanced Accuracy</td><td>0.84349</td></tr><tr><td>(model-validation) Precision</td><td>0.84304</td></tr><tr><td>(model-validation) Sensitivity</td><td>0.75662</td></tr><tr><td>(model-validation) Specificity</td><td>0.93036</td></tr><tr><td>test_loss</td><td>0.01327</td></tr><tr><td>training_loss</td><td>0.43752</td></tr><tr><td>validation_loss</td><td>0.01132</td></tr></table>\n",
       "</div></div>\n",
       "Synced 5 W&B file(s), 0 media file(s), 0 artifact file(s) and 0 other file(s)\n",
       "<br/>Synced <strong style=\"color:#cdcd00\">chocolate-sweep-3</strong>: <a href=\"https://wandb.ai/ece9603_project/breast-histopathology-classification/runs/tqg55rzm\" target=\"_blank\">https://wandb.ai/ece9603_project/breast-histopathology-classification/runs/tqg55rzm</a><br/>\n",
       "Find logs at: <code>.\\wandb\\run-20211125_154442-tqg55rzm\\logs</code><br/>\n"
      ],
      "text/plain": [
       "<IPython.core.display.HTML object>"
      ]
     },
     "metadata": {},
     "output_type": "display_data"
    },
    {
     "name": "stderr",
     "output_type": "stream",
     "text": [
      "\u001b[34m\u001b[1mwandb\u001b[0m: Agent Starting Run: x9ziqu5w with config:\n",
      "\u001b[34m\u001b[1mwandb\u001b[0m: \tepochs: 10\n",
      "\u001b[34m\u001b[1mwandb\u001b[0m: \tlearning_rate: 0.001\n",
      "\u001b[34m\u001b[1mwandb\u001b[0m: \tloss_function: focal_loss\n",
      "\u001b[34m\u001b[1mwandb\u001b[0m: \u001b[33mWARNING\u001b[0m Ignored wandb.init() arg project when running a sweep\n",
      "\u001b[34m\u001b[1mwandb\u001b[0m: \u001b[33mWARNING\u001b[0m Ignored wandb.init() arg entity when running a sweep\n"
     ]
    },
    {
     "data": {
      "text/html": [
       "\n",
       "                    Syncing run <strong><a href=\"https://wandb.ai/ece9603_project/breast-histopathology-classification/runs/x9ziqu5w\" target=\"_blank\">golden-sweep-4</a></strong> to <a href=\"https://wandb.ai/ece9603_project/breast-histopathology-classification\" target=\"_blank\">Weights & Biases</a> (<a href=\"https://docs.wandb.com/integrations/jupyter.html\" target=\"_blank\">docs</a>).<br/>\n",
       "Sweep page: <a href=\"https://wandb.ai/ece9603_project/breast-histopathology-classification/sweeps/zkj8l8le\" target=\"_blank\">https://wandb.ai/ece9603_project/breast-histopathology-classification/sweeps/zkj8l8le</a><br/>\n",
       "\n",
       "                "
      ],
      "text/plain": [
       "<IPython.core.display.HTML object>"
      ]
     },
     "metadata": {},
     "output_type": "display_data"
    },
    {
     "name": "stderr",
     "output_type": "stream",
     "text": [
      "100%|██████████| 1534/1534 [06:04<00:00,  4.20it/s]\n",
      "  0%|          | 0/334 [00:00<?, ?it/s]"
     ]
    },
    {
     "name": "stdout",
     "output_type": "stream",
     "text": [
      "tp: 38050 tn: 131389 fp: 11291 fn: 15504\n",
      "Balanced Accuracy:  0.8156813438655344  Specificity:  0.9208648724418279  AUROC Score:  0.9194638771129866  Sensitivity:  0.7104978152892407  Precision:  0.7711639407389392\n"
     ]
    },
    {
     "name": "stderr",
     "output_type": "stream",
     "text": [
      "100%|██████████| 334/334 [01:15<00:00,  4.40it/s]\n",
      "  0%|          | 0/1534 [00:00<?, ?it/s]"
     ]
    },
    {
     "name": "stdout",
     "output_type": "stream",
     "text": [
      "tp: 10064 tn: 27054 fp: 1520 fn: 4062\n",
      "Balanced Accuracy:  0.8296249620983072  Specificity:  0.9468047875691188  AUROC Score:  0.9398786393664611  Sensitivity:  0.7124451366274954  Precision:  0.8687845303867403\n",
      "Epoch: 0/10... Loss: 0.0236... Val Loss: 0.0006\n"
     ]
    },
    {
     "name": "stderr",
     "output_type": "stream",
     "text": [
      "100%|██████████| 1534/1534 [06:08<00:00,  4.16it/s]\n",
      "  0%|          | 0/334 [00:00<?, ?it/s]"
     ]
    },
    {
     "name": "stdout",
     "output_type": "stream",
     "text": [
      "tp: 77559 tn: 263783 fp: 21577 fn: 29549\n",
      "Balanced Accuracy:  0.8242531598969105  Specificity:  0.9243867395570508  AUROC Score:  0.9256083657681262  Sensitivity:  0.7241195802367704  Precision:  0.7823494996772111\n"
     ]
    },
    {
     "name": "stderr",
     "output_type": "stream",
     "text": [
      "100%|██████████| 334/334 [01:22<00:00,  4.07it/s]\n",
      "  0%|          | 0/1534 [00:00<?, ?it/s]"
     ]
    },
    {
     "name": "stdout",
     "output_type": "stream",
     "text": [
      "tp: 9647 tn: 27212 fp: 1362 fn: 4479\n",
      "Balanced Accuracy:  0.817629696280754  Specificity:  0.9523342899139078  AUROC Score:  0.9366957543692227  Sensitivity:  0.6829251026476002  Precision:  0.8762830411481515\n",
      "Epoch: 1/10... Loss: 0.0188... Val Loss: 0.0007\n"
     ]
    },
    {
     "name": "stderr",
     "output_type": "stream",
     "text": [
      "100%|██████████| 1534/1534 [06:28<00:00,  3.95it/s]\n"
     ]
    },
    {
     "name": "stdout",
     "output_type": "stream",
     "text": [
      "tp: 117541 tn: 396412 fp: 31628 fn: 43121\n",
      "Balanced Accuracy:  0.828856973420217  Specificity:  0.9261097093729558  AUROC Score:  0.9290369261720329  Sensitivity:  0.7316042374674783  Precision:  0.7879720317224088\n"
     ]
    },
    {
     "name": "stderr",
     "output_type": "stream",
     "text": [
      "100%|██████████| 334/334 [01:25<00:00,  3.90it/s]\n",
      "  0%|          | 0/1534 [00:00<?, ?it/s]"
     ]
    },
    {
     "name": "stdout",
     "output_type": "stream",
     "text": [
      "tp: 10358 tn: 26966 fp: 1608 fn: 3768\n",
      "Balanced Accuracy:  0.8384914435996103  Specificity:  0.9437250647441731  AUROC Score:  0.9429142729978881  Sensitivity:  0.7332578224550474  Precision:  0.8656192545545713\n",
      "Epoch: 2/10... Loss: 0.0173... Val Loss: 0.0006\n"
     ]
    },
    {
     "name": "stderr",
     "output_type": "stream",
     "text": [
      "100%|██████████| 1534/1534 [06:45<00:00,  3.78it/s]\n"
     ]
    },
    {
     "name": "stdout",
     "output_type": "stream",
     "text": [
      "tp: 157817 tn: 529223 fp: 41497 fn: 56399\n"
     ]
    },
    {
     "name": "stderr",
     "output_type": "stream",
     "text": [
      "  0%|          | 0/334 [00:00<?, ?it/s]"
     ]
    },
    {
     "name": "stdout",
     "output_type": "stream",
     "text": [
      "Balanced Accuracy:  0.8320045511483349  Specificity:  0.9272900897112419  AUROC Score:  0.931038867394602  Sensitivity:  0.7367190125854278  Precision:  0.791800877008138\n"
     ]
    },
    {
     "name": "stderr",
     "output_type": "stream",
     "text": [
      "100%|██████████| 334/334 [01:27<00:00,  3.82it/s]\n",
      "  0%|          | 0/1534 [00:00<?, ?it/s]"
     ]
    },
    {
     "name": "stdout",
     "output_type": "stream",
     "text": [
      "tp: 9952 tn: 27084 fp: 1490 fn: 4174\n",
      "Balanced Accuracy:  0.8261855937425493  Specificity:  0.947854693077623  AUROC Score:  0.9385324783108469  Sensitivity:  0.7045164944074755  Precision:  0.8697780108372662\n",
      "Epoch: 3/10... Loss: 0.0170... Val Loss: 0.0007\n"
     ]
    },
    {
     "name": "stderr",
     "output_type": "stream",
     "text": [
      "100%|██████████| 1534/1534 [07:01<00:00,  3.64it/s]\n"
     ]
    },
    {
     "name": "stdout",
     "output_type": "stream",
     "text": [
      "tp: 198403 tn: 662107 fp: 51293 fn: 69367\n"
     ]
    },
    {
     "name": "stderr",
     "output_type": "stream",
     "text": [
      "  0%|          | 0/334 [00:00<?, ?it/s]"
     ]
    },
    {
     "name": "stdout",
     "output_type": "stream",
     "text": [
      "Balanced Accuracy:  0.8345231162153637  Specificity:  0.9281006447995515  AUROC Score:  0.9326983526365089  Sensitivity:  0.740945587631176  Precision:  0.7945782070998334\n"
     ]
    },
    {
     "name": "stderr",
     "output_type": "stream",
     "text": [
      "100%|██████████| 334/334 [01:31<00:00,  3.64it/s]\n"
     ]
    },
    {
     "name": "stdout",
     "output_type": "stream",
     "text": [
      "tp: 9940 tn: 27228 fp: 1346 fn: 4186\n",
      "Balanced Accuracy:  0.8282806182726012  Specificity:  0.9528942395184433  AUROC Score:  0.9425723860273785  Sensitivity:  0.7036669970267592  Precision:  0.8807371965266703\n",
      "Epoch: 4/10... Loss: 0.0162... Val Loss: 0.0006\n",
      "Early Stop no improvement in validation loss in 2 validation steps\n",
      "\n",
      "Lowest Validation Loss: 0.0005879099725892669 at epoch 2\n",
      "\n"
     ]
    },
    {
     "name": "stderr",
     "output_type": "stream",
     "text": [
      "100%|██████████| 301/301 [01:13<00:00,  4.09it/s]\n"
     ]
    },
    {
     "name": "stdout",
     "output_type": "stream",
     "text": [
      "Test Loss:  0.0005733175503630792\n",
      "tp: 8737 tn: 25145 fp: 2298 fn: 2348\n",
      "Balanced Accuracy:  0.8522225137464983  Specificity:  0.916262799256641  AUROC Score:  0.9364044580302098  Sensitivity:  0.7881822282363554  Precision:  0.7917535115541459\n"
     ]
    },
    {
     "data": {
      "text/html": [
       "<br/>Waiting for W&B process to finish, PID 18844... <strong style=\"color:green\">(success).</strong>"
      ],
      "text/plain": [
       "<IPython.core.display.HTML object>"
      ]
     },
     "metadata": {},
     "output_type": "display_data"
    },
    {
     "data": {
      "application/vnd.jupyter.widget-view+json": {
       "model_id": "4fae6fdd069c416f8550ccc878762ee6",
       "version_major": 2,
       "version_minor": 0
      },
      "text/plain": [
       "VBox(children=(Label(value=' 0.00MB of 0.00MB uploaded (0.00MB deduped)\\r'), FloatProgress(value=1.0, max=1.0)…"
      ]
     },
     "metadata": {},
     "output_type": "display_data"
    },
    {
     "data": {
      "text/html": [
       "<style>\n",
       "    table.wandb td:nth-child(1) { padding: 0 10px; text-align: right }\n",
       "    .wandb-row { display: flex; flex-direction: row; flex-wrap: wrap; width: 100% }\n",
       "    .wandb-col { display: flex; flex-direction: column; flex-basis: 100%; flex: 1; padding: 10px; }\n",
       "    </style>\n",
       "<div class=\"wandb-row\"><div class=\"wandb-col\">\n",
       "<h3>Run history:</h3><br/><table class=\"wandb\"><tr><td>(model-testing) AUROC Score</td><td>▁</td></tr><tr><td>(model-testing) Balanced Accuracy</td><td>▁</td></tr><tr><td>(model-testing) Precision</td><td>▁</td></tr><tr><td>(model-testing) Sensitivity</td><td>▁</td></tr><tr><td>(model-testing) Specificity</td><td>▁</td></tr><tr><td>(model-training) AUROC Score</td><td>▁▄▆▇█</td></tr><tr><td>(model-training) Balanced Accuracy</td><td>▁▄▆▇█</td></tr><tr><td>(model-training) Precision</td><td>▁▄▆▇█</td></tr><tr><td>(model-training) Sensitivity</td><td>▁▄▆▇█</td></tr><tr><td>(model-training) Specificity</td><td>▁▄▆▇█</td></tr><tr><td>(model-validation) AUROC Score</td><td>▅▁█▃█</td></tr><tr><td>(model-validation) Balanced Accuracy</td><td>▅▁█▄▅</td></tr><tr><td>(model-validation) Precision</td><td>▂▆▁▃█</td></tr><tr><td>(model-validation) Sensitivity</td><td>▅▁█▄▄</td></tr><tr><td>(model-validation) Specificity</td><td>▃█▁▄█</td></tr><tr><td>test_loss</td><td>▁</td></tr><tr><td>training_loss</td><td>█▃▂▂▁</td></tr><tr><td>validation_loss</td><td>▃█▁▅▂</td></tr></table><br/></div><div class=\"wandb-col\">\n",
       "<h3>Run summary:</h3><br/><table class=\"wandb\"><tr><td>(model-testing) AUROC Score</td><td>0.9364</td></tr><tr><td>(model-testing) Balanced Accuracy</td><td>0.85222</td></tr><tr><td>(model-testing) Precision</td><td>0.79175</td></tr><tr><td>(model-testing) Sensitivity</td><td>0.78818</td></tr><tr><td>(model-testing) Specificity</td><td>0.91626</td></tr><tr><td>(model-training) AUROC Score</td><td>0.9327</td></tr><tr><td>(model-training) Balanced Accuracy</td><td>0.83452</td></tr><tr><td>(model-training) Precision</td><td>0.79458</td></tr><tr><td>(model-training) Sensitivity</td><td>0.74095</td></tr><tr><td>(model-training) Specificity</td><td>0.9281</td></tr><tr><td>(model-validation) AUROC Score</td><td>0.94257</td></tr><tr><td>(model-validation) Balanced Accuracy</td><td>0.82828</td></tr><tr><td>(model-validation) Precision</td><td>0.88074</td></tr><tr><td>(model-validation) Sensitivity</td><td>0.70367</td></tr><tr><td>(model-validation) Specificity</td><td>0.95289</td></tr><tr><td>test_loss</td><td>0.00057</td></tr><tr><td>training_loss</td><td>0.01625</td></tr><tr><td>validation_loss</td><td>0.00061</td></tr></table>\n",
       "</div></div>\n",
       "Synced 5 W&B file(s), 0 media file(s), 0 artifact file(s) and 0 other file(s)\n",
       "<br/>Synced <strong style=\"color:#cdcd00\">golden-sweep-4</strong>: <a href=\"https://wandb.ai/ece9603_project/breast-histopathology-classification/runs/x9ziqu5w\" target=\"_blank\">https://wandb.ai/ece9603_project/breast-histopathology-classification/runs/x9ziqu5w</a><br/>\n",
       "Find logs at: <code>.\\wandb\\run-20211125_170431-x9ziqu5w\\logs</code><br/>\n"
      ],
      "text/plain": [
       "<IPython.core.display.HTML object>"
      ]
     },
     "metadata": {},
     "output_type": "display_data"
    },
    {
     "name": "stderr",
     "output_type": "stream",
     "text": [
      "\u001b[34m\u001b[1mwandb\u001b[0m: Agent Starting Run: 84vqhs0r with config:\n",
      "\u001b[34m\u001b[1mwandb\u001b[0m: \tepochs: 10\n",
      "\u001b[34m\u001b[1mwandb\u001b[0m: \tlearning_rate: 0.001\n",
      "\u001b[34m\u001b[1mwandb\u001b[0m: \tloss_function: tversky_loss\n",
      "\u001b[34m\u001b[1mwandb\u001b[0m: \u001b[33mWARNING\u001b[0m Ignored wandb.init() arg project when running a sweep\n",
      "\u001b[34m\u001b[1mwandb\u001b[0m: \u001b[33mWARNING\u001b[0m Ignored wandb.init() arg entity when running a sweep\n"
     ]
    },
    {
     "data": {
      "text/html": [
       "\n",
       "                    Syncing run <strong><a href=\"https://wandb.ai/ece9603_project/breast-histopathology-classification/runs/84vqhs0r\" target=\"_blank\">fiery-sweep-5</a></strong> to <a href=\"https://wandb.ai/ece9603_project/breast-histopathology-classification\" target=\"_blank\">Weights & Biases</a> (<a href=\"https://docs.wandb.com/integrations/jupyter.html\" target=\"_blank\">docs</a>).<br/>\n",
       "Sweep page: <a href=\"https://wandb.ai/ece9603_project/breast-histopathology-classification/sweeps/zkj8l8le\" target=\"_blank\">https://wandb.ai/ece9603_project/breast-histopathology-classification/sweeps/zkj8l8le</a><br/>\n",
       "\n",
       "                "
      ],
      "text/plain": [
       "<IPython.core.display.HTML object>"
      ]
     },
     "metadata": {},
     "output_type": "display_data"
    },
    {
     "name": "stderr",
     "output_type": "stream",
     "text": [
      "100%|██████████| 1534/1534 [06:16<00:00,  4.07it/s]\n",
      "  0%|          | 0/334 [00:00<?, ?it/s]"
     ]
    },
    {
     "name": "stdout",
     "output_type": "stream",
     "text": [
      "tp: 42064 tn: 124739 fp: 17941 fn: 11490\n",
      "Balanced Accuracy:  0.8298536392880094  Specificity:  0.8742570787776843  AUROC Score:  0.8953865275295625  Sensitivity:  0.7854501997983344  Precision:  0.7010082493125573\n"
     ]
    },
    {
     "name": "stderr",
     "output_type": "stream",
     "text": [
      "100%|██████████| 334/334 [01:16<00:00,  4.38it/s]\n",
      "  0%|          | 0/1534 [00:00<?, ?it/s]"
     ]
    },
    {
     "name": "stdout",
     "output_type": "stream",
     "text": [
      "tp: 10353 tn: 26578 fp: 1996 fn: 3773\n",
      "Balanced Accuracy:  0.8315250760236336  Specificity:  0.9301462868341849  AUROC Score:  0.9065338938623373  Sensitivity:  0.7329038652130823  Precision:  0.8383674791481092\n",
      "Epoch: 0/10... Loss: 0.3077... Val Loss: 0.0074\n"
     ]
    },
    {
     "name": "stderr",
     "output_type": "stream",
     "text": [
      "100%|██████████| 1534/1534 [06:17<00:00,  4.07it/s]\n",
      "  0%|          | 0/334 [00:00<?, ?it/s]"
     ]
    },
    {
     "name": "stdout",
     "output_type": "stream",
     "text": [
      "tp: 84218 tn: 251013 fp: 34347 fn: 22890\n",
      "Balanced Accuracy:  0.8329633610579834  Specificity:  0.8796362489486964  AUROC Score:  0.898395269771986  Sensitivity:  0.7862904731672704  Precision:  0.7103107999831316\n"
     ]
    },
    {
     "name": "stderr",
     "output_type": "stream",
     "text": [
      "100%|██████████| 334/334 [01:25<00:00,  3.89it/s]\n",
      "  0%|          | 0/1534 [00:00<?, ?it/s]"
     ]
    },
    {
     "name": "stdout",
     "output_type": "stream",
     "text": [
      "tp: 10908 tn: 26231 fp: 2343 fn: 3218\n",
      "Balanced Accuracy:  0.8450977494285177  Specificity:  0.9180023797858192  AUROC Score:  0.9185518038262582  Sensitivity:  0.7721931190712162  Precision:  0.8231831559882273\n",
      "Epoch: 1/10... Loss: 0.2926... Val Loss: 0.0069\n"
     ]
    },
    {
     "name": "stderr",
     "output_type": "stream",
     "text": [
      "100%|██████████| 1534/1534 [06:39<00:00,  3.84it/s]\n"
     ]
    },
    {
     "name": "stdout",
     "output_type": "stream",
     "text": [
      "tp: 126425 tn: 377973 fp: 50067 fn: 34237\n",
      "Balanced Accuracy:  0.8349662045102937  Specificity:  0.8830319596299411  AUROC Score:  0.8994699839989909  Sensitivity:  0.7869004493906462  Precision:  0.716321419667747\n"
     ]
    },
    {
     "name": "stderr",
     "output_type": "stream",
     "text": [
      "100%|██████████| 334/334 [01:24<00:00,  3.94it/s]\n",
      "  0%|          | 0/1534 [00:00<?, ?it/s]"
     ]
    },
    {
     "name": "stdout",
     "output_type": "stream",
     "text": [
      "tp: 10395 tn: 26690 fp: 1884 fn: 3731\n",
      "Balanced Accuracy:  0.8349715200557619  Specificity:  0.9340659340659341  AUROC Score:  0.920230241716303  Sensitivity:  0.7358771060455896  Precision:  0.8465673100415343\n",
      "Epoch: 2/10... Loss: 0.2859... Val Loss: 0.0072\n"
     ]
    },
    {
     "name": "stderr",
     "output_type": "stream",
     "text": [
      "100%|██████████| 1534/1534 [06:44<00:00,  3.79it/s]\n"
     ]
    },
    {
     "name": "stdout",
     "output_type": "stream",
     "text": [
      "tp: 169086 tn: 505064 fp: 65656 fn: 45130\n"
     ]
    },
    {
     "name": "stderr",
     "output_type": "stream",
     "text": [
      "  0%|          | 0/334 [00:00<?, ?it/s]"
     ]
    },
    {
     "name": "stdout",
     "output_type": "stream",
     "text": [
      "Balanced Accuracy:  0.837142071629851  Specificity:  0.884959349593496  AUROC Score:  0.90128390564177  Sensitivity:  0.7893247936662061  Precision:  0.7203056973187585\n"
     ]
    },
    {
     "name": "stderr",
     "output_type": "stream",
     "text": [
      "100%|██████████| 334/334 [01:30<00:00,  3.67it/s]\n",
      "  0%|          | 0/1534 [00:00<?, ?it/s]"
     ]
    },
    {
     "name": "stdout",
     "output_type": "stream",
     "text": [
      "tp: 10846 tn: 26484 fp: 2090 fn: 3280\n",
      "Balanced Accuracy:  0.8473303160891932  Specificity:  0.9268565829075384  AUROC Score:  0.9273128178622497  Sensitivity:  0.7678040492708481  Precision:  0.8384353741496599\n",
      "Epoch: 3/10... Loss: 0.2790... Val Loss: 0.0067\n"
     ]
    },
    {
     "name": "stderr",
     "output_type": "stream",
     "text": [
      "100%|██████████| 1534/1534 [07:05<00:00,  3.60it/s]\n"
     ]
    },
    {
     "name": "stdout",
     "output_type": "stream",
     "text": [
      "tp: 211766 tn: 632648 fp: 80752 fn: 56004\n"
     ]
    },
    {
     "name": "stderr",
     "output_type": "stream",
     "text": [
      "  0%|          | 0/334 [00:00<?, ?it/s]"
     ]
    },
    {
     "name": "stdout",
     "output_type": "stream",
     "text": [
      "Balanced Accuracy:  0.8388285985657806  Specificity:  0.8868068404821979  AUROC Score:  0.9026226289871577  Sensitivity:  0.7908503566493632  Precision:  0.7239417745232772\n"
     ]
    },
    {
     "name": "stderr",
     "output_type": "stream",
     "text": [
      "100%|██████████| 334/334 [01:32<00:00,  3.59it/s]\n",
      "  0%|          | 0/1534 [00:00<?, ?it/s]"
     ]
    },
    {
     "name": "stdout",
     "output_type": "stream",
     "text": [
      "tp: 10653 tn: 26622 fp: 1952 fn: 3473\n",
      "Balanced Accuracy:  0.8429137239888251  Specificity:  0.9316861482466579  AUROC Score:  0.9244949755810381  Sensitivity:  0.7541412997309925  Precision:  0.8451408171360572\n",
      "Epoch: 4/10... Loss: 0.2743... Val Loss: 0.0069\n"
     ]
    },
    {
     "name": "stderr",
     "output_type": "stream",
     "text": [
      "100%|██████████| 1534/1534 [07:25<00:00,  3.45it/s]\n"
     ]
    },
    {
     "name": "stdout",
     "output_type": "stream",
     "text": [
      "tp: 254003 tn: 760974 fp: 95106 fn: 67321\n"
     ]
    },
    {
     "name": "stderr",
     "output_type": "stream",
     "text": [
      "  0%|          | 0/334 [00:00<?, ?it/s]"
     ]
    },
    {
     "name": "stdout",
     "output_type": "stream",
     "text": [
      "Balanced Accuracy:  0.8396969851945314  Specificity:  0.8889052425007009  AUROC Score:  0.9030010525474044  Sensitivity:  0.7904887278883619  Precision:  0.7275750553552043\n"
     ]
    },
    {
     "name": "stderr",
     "output_type": "stream",
     "text": [
      "100%|██████████| 334/334 [01:40<00:00,  3.34it/s]\n",
      "  0%|          | 0/1534 [00:00<?, ?it/s]"
     ]
    },
    {
     "name": "stdout",
     "output_type": "stream",
     "text": [
      "tp: 11260 tn: 26140 fp: 2434 fn: 2866\n",
      "Balanced Accuracy:  0.8559646876577935  Specificity:  0.914817666410023  AUROC Score:  0.924300700449348  Sensitivity:  0.7971117089055642  Precision:  0.8222579231780341\n",
      "Epoch: 5/10... Loss: 0.2750... Val Loss: 0.0065\n"
     ]
    },
    {
     "name": "stderr",
     "output_type": "stream",
     "text": [
      "100%|██████████| 1534/1534 [08:03<00:00,  3.17it/s]\n"
     ]
    },
    {
     "name": "stdout",
     "output_type": "stream",
     "text": [
      "tp: 296666 tn: 888925 fp: 109835 fn: 78212\n"
     ]
    },
    {
     "name": "stderr",
     "output_type": "stream",
     "text": [
      "  0%|          | 0/334 [00:00<?, ?it/s]"
     ]
    },
    {
     "name": "stdout",
     "output_type": "stream",
     "text": [
      "Balanced Accuracy:  0.8406977134187379  Specificity:  0.8900286355080299  AUROC Score:  0.903846406988047  Sensitivity:  0.7913667913294459  Precision:  0.729803862721125\n"
     ]
    },
    {
     "name": "stderr",
     "output_type": "stream",
     "text": [
      "100%|██████████| 334/334 [01:45<00:00,  3.17it/s]\n",
      "  0%|          | 0/1534 [00:00<?, ?it/s]"
     ]
    },
    {
     "name": "stdout",
     "output_type": "stream",
     "text": [
      "tp: 10766 tn: 26684 fp: 1890 fn: 3360\n",
      "Balanced Accuracy:  0.8479983431818192  Specificity:  0.9338559529642332  AUROC Score:  0.9307523893711807  Sensitivity:  0.7621407333994054  Precision:  0.8506637168141593\n",
      "Epoch: 6/10... Loss: 0.2717... Val Loss: 0.0067\n"
     ]
    },
    {
     "name": "stderr",
     "output_type": "stream",
     "text": [
      "100%|██████████| 1534/1534 [08:32<00:00,  2.99it/s]\n"
     ]
    },
    {
     "name": "stdout",
     "output_type": "stream",
     "text": [
      "tp: 339173 tn: 1017507 fp: 123933 fn: 89259\n"
     ]
    },
    {
     "name": "stderr",
     "output_type": "stream",
     "text": [
      "  0%|          | 0/334 [00:00<?, ?it/s]"
     ]
    },
    {
     "name": "stdout",
     "output_type": "stream",
     "text": [
      "Balanced Accuracy:  0.8415426055994574  Specificity:  0.8914239907485282  AUROC Score:  0.9043532881619785  Sensitivity:  0.7916612204503866  Precision:  0.7323874015884052\n"
     ]
    },
    {
     "name": "stderr",
     "output_type": "stream",
     "text": [
      "100%|██████████| 334/334 [01:52<00:00,  2.97it/s]\n"
     ]
    },
    {
     "name": "stdout",
     "output_type": "stream",
     "text": [
      "tp: 10731 tn: 26578 fp: 1996 fn: 3395\n",
      "Balanced Accuracy:  0.844904659769917  Specificity:  0.9301462868341849  AUROC Score:  0.9245633737859529  Sensitivity:  0.7596630327056492  Precision:  0.843168067887169\n",
      "Epoch: 7/10... Loss: 0.2689... Val Loss: 0.0068\n",
      "Early Stop no improvement in validation loss in 2 validation steps\n",
      "\n",
      "Lowest Validation Loss: 0.006471717043926841 at epoch 5\n",
      "\n"
     ]
    },
    {
     "name": "stderr",
     "output_type": "stream",
     "text": [
      "100%|██████████| 301/301 [01:17<00:00,  3.86it/s]\n"
     ]
    },
    {
     "name": "stdout",
     "output_type": "stream",
     "text": [
      "Test Loss:  0.00831208594383732\n",
      "tp: 9414 tn: 23745 fp: 3693 fn: 1676\n",
      "Balanced Accuracy:  0.8571392501208233  Specificity:  0.8654056418106276  AUROC Score:  0.9156030538495479  Sensitivity:  0.8488728584310189  Precision:  0.7182421606775006\n"
     ]
    },
    {
     "data": {
      "text/html": [
       "<br/>Waiting for W&B process to finish, PID 29380... <strong style=\"color:green\">(success).</strong>"
      ],
      "text/plain": [
       "<IPython.core.display.HTML object>"
      ]
     },
     "metadata": {},
     "output_type": "display_data"
    },
    {
     "data": {
      "application/vnd.jupyter.widget-view+json": {
       "model_id": "59e49039a0af49c4abd96c6f860401a5",
       "version_major": 2,
       "version_minor": 0
      },
      "text/plain": [
       "VBox(children=(Label(value=' 0.00MB of 0.00MB uploaded (0.00MB deduped)\\r'), FloatProgress(value=1.0, max=1.0)…"
      ]
     },
     "metadata": {},
     "output_type": "display_data"
    },
    {
     "data": {
      "text/html": [
       "<style>\n",
       "    table.wandb td:nth-child(1) { padding: 0 10px; text-align: right }\n",
       "    .wandb-row { display: flex; flex-direction: row; flex-wrap: wrap; width: 100% }\n",
       "    .wandb-col { display: flex; flex-direction: column; flex-basis: 100%; flex: 1; padding: 10px; }\n",
       "    </style>\n",
       "<div class=\"wandb-row\"><div class=\"wandb-col\">\n",
       "<h3>Run history:</h3><br/><table class=\"wandb\"><tr><td>(model-testing) AUROC Score</td><td>▁</td></tr><tr><td>(model-testing) Balanced Accuracy</td><td>▁</td></tr><tr><td>(model-testing) Precision</td><td>▁</td></tr><tr><td>(model-testing) Sensitivity</td><td>▁</td></tr><tr><td>(model-testing) Specificity</td><td>▁</td></tr><tr><td>(model-training) AUROC Score</td><td>▁▃▄▆▇▇██</td></tr><tr><td>(model-training) Balanced Accuracy</td><td>▁▃▄▅▆▇▇█</td></tr><tr><td>(model-training) Precision</td><td>▁▃▄▅▆▇▇█</td></tr><tr><td>(model-training) Sensitivity</td><td>▁▂▃▅▇▇██</td></tr><tr><td>(model-training) Specificity</td><td>▁▃▅▅▆▇▇█</td></tr><tr><td>(model-validation) AUROC Score</td><td>▁▄▅▇▆▆█▆</td></tr><tr><td>(model-validation) Balanced Accuracy</td><td>▁▅▂▆▄█▆▅</td></tr><tr><td>(model-validation) Precision</td><td>▅▁▇▅▇▁█▆</td></tr><tr><td>(model-validation) Sensitivity</td><td>▁▅▁▅▃█▄▄</td></tr><tr><td>(model-validation) Specificity</td><td>▇▂█▅▇▁█▇</td></tr><tr><td>test_loss</td><td>▁</td></tr><tr><td>training_loss</td><td>█▅▄▃▂▂▁▁</td></tr><tr><td>validation_loss</td><td>█▄▆▃▄▁▂▃</td></tr></table><br/></div><div class=\"wandb-col\">\n",
       "<h3>Run summary:</h3><br/><table class=\"wandb\"><tr><td>(model-testing) AUROC Score</td><td>0.9156</td></tr><tr><td>(model-testing) Balanced Accuracy</td><td>0.85714</td></tr><tr><td>(model-testing) Precision</td><td>0.71824</td></tr><tr><td>(model-testing) Sensitivity</td><td>0.84887</td></tr><tr><td>(model-testing) Specificity</td><td>0.86541</td></tr><tr><td>(model-training) AUROC Score</td><td>0.90435</td></tr><tr><td>(model-training) Balanced Accuracy</td><td>0.84154</td></tr><tr><td>(model-training) Precision</td><td>0.73239</td></tr><tr><td>(model-training) Sensitivity</td><td>0.79166</td></tr><tr><td>(model-training) Specificity</td><td>0.89142</td></tr><tr><td>(model-validation) AUROC Score</td><td>0.92456</td></tr><tr><td>(model-validation) Balanced Accuracy</td><td>0.8449</td></tr><tr><td>(model-validation) Precision</td><td>0.84317</td></tr><tr><td>(model-validation) Sensitivity</td><td>0.75966</td></tr><tr><td>(model-validation) Specificity</td><td>0.93015</td></tr><tr><td>test_loss</td><td>0.00831</td></tr><tr><td>training_loss</td><td>0.26894</td></tr><tr><td>validation_loss</td><td>0.00676</td></tr></table>\n",
       "</div></div>\n",
       "Synced 5 W&B file(s), 0 media file(s), 0 artifact file(s) and 0 other file(s)\n",
       "<br/>Synced <strong style=\"color:#cdcd00\">fiery-sweep-5</strong>: <a href=\"https://wandb.ai/ece9603_project/breast-histopathology-classification/runs/84vqhs0r\" target=\"_blank\">https://wandb.ai/ece9603_project/breast-histopathology-classification/runs/84vqhs0r</a><br/>\n",
       "Find logs at: <code>.\\wandb\\run-20211125_175040-84vqhs0r\\logs</code><br/>\n"
      ],
      "text/plain": [
       "<IPython.core.display.HTML object>"
      ]
     },
     "metadata": {},
     "output_type": "display_data"
    },
    {
     "name": "stderr",
     "output_type": "stream",
     "text": [
      "\u001b[34m\u001b[1mwandb\u001b[0m: Agent Starting Run: 2rqol4ha with config:\n",
      "\u001b[34m\u001b[1mwandb\u001b[0m: \tepochs: 10\n",
      "\u001b[34m\u001b[1mwandb\u001b[0m: \tlearning_rate: 0.001\n",
      "\u001b[34m\u001b[1mwandb\u001b[0m: \tloss_function: focal_tversky_loss\n",
      "\u001b[34m\u001b[1mwandb\u001b[0m: \u001b[33mWARNING\u001b[0m Ignored wandb.init() arg project when running a sweep\n",
      "\u001b[34m\u001b[1mwandb\u001b[0m: \u001b[33mWARNING\u001b[0m Ignored wandb.init() arg entity when running a sweep\n"
     ]
    },
    {
     "data": {
      "text/html": [
       "\n",
       "                    Syncing run <strong><a href=\"https://wandb.ai/ece9603_project/breast-histopathology-classification/runs/2rqol4ha\" target=\"_blank\">dauntless-sweep-6</a></strong> to <a href=\"https://wandb.ai/ece9603_project/breast-histopathology-classification\" target=\"_blank\">Weights & Biases</a> (<a href=\"https://docs.wandb.com/integrations/jupyter.html\" target=\"_blank\">docs</a>).<br/>\n",
       "Sweep page: <a href=\"https://wandb.ai/ece9603_project/breast-histopathology-classification/sweeps/zkj8l8le\" target=\"_blank\">https://wandb.ai/ece9603_project/breast-histopathology-classification/sweeps/zkj8l8le</a><br/>\n",
       "\n",
       "                "
      ],
      "text/plain": [
       "<IPython.core.display.HTML object>"
      ]
     },
     "metadata": {},
     "output_type": "display_data"
    },
    {
     "name": "stderr",
     "output_type": "stream",
     "text": [
      "100%|██████████| 1534/1534 [06:26<00:00,  3.97it/s]\n",
      "  0%|          | 0/334 [00:00<?, ?it/s]"
     ]
    },
    {
     "name": "stdout",
     "output_type": "stream",
     "text": [
      "tp: 41494 tn: 125689 fp: 16991 fn: 12060\n",
      "Balanced Accuracy:  0.8278610360702818  Specificity:  0.8809153350154191  AUROC Score:  0.8951092598277068  Sensitivity:  0.7748067371251447  Precision:  0.7094810635205608\n"
     ]
    },
    {
     "name": "stderr",
     "output_type": "stream",
     "text": [
      "100%|██████████| 334/334 [01:18<00:00,  4.25it/s]\n",
      "  0%|          | 0/1534 [00:00<?, ?it/s]"
     ]
    },
    {
     "name": "stdout",
     "output_type": "stream",
     "text": [
      "tp: 10887 tn: 26503 fp: 2071 fn: 3239\n",
      "Balanced Accuracy:  0.8491140108589434  Specificity:  0.9275215230629243  AUROC Score:  0.9195030834241766  Sensitivity:  0.7707064986549624  Precision:  0.8401759530791789\n",
      "Epoch: 0/10... Loss: 0.3076... Val Loss: 0.0067\n"
     ]
    },
    {
     "name": "stderr",
     "output_type": "stream",
     "text": [
      "100%|██████████| 1534/1534 [06:14<00:00,  4.09it/s]\n",
      "  0%|          | 0/334 [00:00<?, ?it/s]"
     ]
    },
    {
     "name": "stdout",
     "output_type": "stream",
     "text": [
      "tp: 83594 tn: 252335 fp: 33025 fn: 23514\n",
      "Balanced Accuracy:  0.8323667856806592  Specificity:  0.8842689935520045  AUROC Score:  0.8969770347115062  Sensitivity:  0.780464577809314  Precision:  0.7168128692580111\n"
     ]
    },
    {
     "name": "stderr",
     "output_type": "stream",
     "text": [
      "100%|██████████| 334/334 [01:24<00:00,  3.94it/s]\n",
      "  0%|          | 0/1534 [00:00<?, ?it/s]"
     ]
    },
    {
     "name": "stdout",
     "output_type": "stream",
     "text": [
      "tp: 11487 tn: 26072 fp: 2502 fn: 2639\n",
      "Balanced Accuracy:  0.8628096241407649  Specificity:  0.9124378805907468  AUROC Score:  0.9309737866902187  Sensitivity:  0.813181367690783  Precision:  0.8211451855028952\n",
      "Epoch: 1/10... Loss: 0.2903... Val Loss: 0.0062\n"
     ]
    },
    {
     "name": "stderr",
     "output_type": "stream",
     "text": [
      "100%|██████████| 1534/1534 [06:47<00:00,  3.77it/s]\n"
     ]
    },
    {
     "name": "stdout",
     "output_type": "stream",
     "text": [
      "tp: 126067 tn: 379170 fp: 48870 fn: 34595\n",
      "Balanced Accuracy:  0.8352502980754806  Specificity:  0.8858284272497897  AUROC Score:  0.8989788847239304  Sensitivity:  0.7846721689011714  Precision:  0.7206422883666691\n"
     ]
    },
    {
     "name": "stderr",
     "output_type": "stream",
     "text": [
      "100%|██████████| 334/334 [01:27<00:00,  3.80it/s]\n",
      "  0%|          | 0/1534 [00:00<?, ?it/s]"
     ]
    },
    {
     "name": "stdout",
     "output_type": "stream",
     "text": [
      "tp: 11014 tn: 26462 fp: 2112 fn: 3112\n",
      "Balanced Accuracy:  0.8528918324010899  Specificity:  0.9260866522013019  AUROC Score:  0.9293641644600846  Sensitivity:  0.7796970126008778  Precision:  0.8390979734877343\n",
      "Epoch: 2/10... Loss: 0.2840... Val Loss: 0.0065\n"
     ]
    },
    {
     "name": "stderr",
     "output_type": "stream",
     "text": [
      "100%|██████████| 1534/1534 [06:54<00:00,  3.70it/s]\n"
     ]
    },
    {
     "name": "stdout",
     "output_type": "stream",
     "text": [
      "tp: 168426 tn: 506643 fp: 64077 fn: 45790\n"
     ]
    },
    {
     "name": "stderr",
     "output_type": "stream",
     "text": [
      "  0%|          | 0/334 [00:00<?, ?it/s]"
     ]
    },
    {
     "name": "stdout",
     "output_type": "stream",
     "text": [
      "Balanced Accuracy:  0.8369849107954924  Specificity:  0.8877260302775442  AUROC Score:  0.9000989796519691  Sensitivity:  0.7862437913134407  Precision:  0.7244035560831473\n"
     ]
    },
    {
     "name": "stderr",
     "output_type": "stream",
     "text": [
      "100%|██████████| 334/334 [01:28<00:00,  3.78it/s]\n"
     ]
    },
    {
     "name": "stdout",
     "output_type": "stream",
     "text": [
      "tp: 10896 tn: 26495 fp: 2079 fn: 3230\n",
      "Balanced Accuracy:  0.8492925849755781  Specificity:  0.9272415482606565  AUROC Score:  0.9253159906391377  Sensitivity:  0.7713436216904997  Precision:  0.8397687861271677\n",
      "Epoch: 3/10... Loss: 0.2798... Val Loss: 0.0066\n",
      "Early Stop no improvement in validation loss in 2 validation steps\n",
      "\n",
      "Lowest Validation Loss: 0.0062036973081137006 at epoch 1\n",
      "\n"
     ]
    },
    {
     "name": "stderr",
     "output_type": "stream",
     "text": [
      "100%|██████████| 301/301 [01:16<00:00,  3.94it/s]\n"
     ]
    },
    {
     "name": "stdout",
     "output_type": "stream",
     "text": [
      "Test Loss:  0.008419013792468656\n",
      "tp: 9418 tn: 23661 fp: 3779 fn: 1670\n",
      "Balanced Accuracy:  0.855834032747298  Specificity:  0.8622813411078717  AUROC Score:  0.9183016010400759  Sensitivity:  0.8493867243867244  Precision:  0.7136470409941653\n"
     ]
    },
    {
     "data": {
      "text/html": [
       "<br/>Waiting for W&B process to finish, PID 30220... <strong style=\"color:green\">(success).</strong>"
      ],
      "text/plain": [
       "<IPython.core.display.HTML object>"
      ]
     },
     "metadata": {},
     "output_type": "display_data"
    },
    {
     "data": {
      "application/vnd.jupyter.widget-view+json": {
       "model_id": "da0dabd804944dba93673d8420b9dfd8",
       "version_major": 2,
       "version_minor": 0
      },
      "text/plain": [
       "VBox(children=(Label(value=' 0.00MB of 0.00MB uploaded (0.00MB deduped)\\r'), FloatProgress(value=1.0, max=1.0)…"
      ]
     },
     "metadata": {},
     "output_type": "display_data"
    },
    {
     "data": {
      "text/html": [
       "<style>\n",
       "    table.wandb td:nth-child(1) { padding: 0 10px; text-align: right }\n",
       "    .wandb-row { display: flex; flex-direction: row; flex-wrap: wrap; width: 100% }\n",
       "    .wandb-col { display: flex; flex-direction: column; flex-basis: 100%; flex: 1; padding: 10px; }\n",
       "    </style>\n",
       "<div class=\"wandb-row\"><div class=\"wandb-col\">\n",
       "<h3>Run history:</h3><br/><table class=\"wandb\"><tr><td>(model-testing) AUROC Score</td><td>▁</td></tr><tr><td>(model-testing) Balanced Accuracy</td><td>▁</td></tr><tr><td>(model-testing) Precision</td><td>▁</td></tr><tr><td>(model-testing) Sensitivity</td><td>▁</td></tr><tr><td>(model-testing) Specificity</td><td>▁</td></tr><tr><td>(model-training) AUROC Score</td><td>▁▄▆█</td></tr><tr><td>(model-training) Balanced Accuracy</td><td>▁▄▇█</td></tr><tr><td>(model-training) Precision</td><td>▁▄▆█</td></tr><tr><td>(model-training) Sensitivity</td><td>▁▄▇█</td></tr><tr><td>(model-training) Specificity</td><td>▁▄▆█</td></tr><tr><td>(model-validation) AUROC Score</td><td>▁█▇▅</td></tr><tr><td>(model-validation) Balanced Accuracy</td><td>▁█▃▁</td></tr><tr><td>(model-validation) Precision</td><td>█▁██</td></tr><tr><td>(model-validation) Sensitivity</td><td>▁█▂▁</td></tr><tr><td>(model-validation) Specificity</td><td>█▁▇█</td></tr><tr><td>test_loss</td><td>▁</td></tr><tr><td>training_loss</td><td>█▄▂▁</td></tr><tr><td>validation_loss</td><td>█▁▆▇</td></tr></table><br/></div><div class=\"wandb-col\">\n",
       "<h3>Run summary:</h3><br/><table class=\"wandb\"><tr><td>(model-testing) AUROC Score</td><td>0.9183</td></tr><tr><td>(model-testing) Balanced Accuracy</td><td>0.85583</td></tr><tr><td>(model-testing) Precision</td><td>0.71365</td></tr><tr><td>(model-testing) Sensitivity</td><td>0.84939</td></tr><tr><td>(model-testing) Specificity</td><td>0.86228</td></tr><tr><td>(model-training) AUROC Score</td><td>0.9001</td></tr><tr><td>(model-training) Balanced Accuracy</td><td>0.83698</td></tr><tr><td>(model-training) Precision</td><td>0.7244</td></tr><tr><td>(model-training) Sensitivity</td><td>0.78624</td></tr><tr><td>(model-training) Specificity</td><td>0.88773</td></tr><tr><td>(model-validation) AUROC Score</td><td>0.92532</td></tr><tr><td>(model-validation) Balanced Accuracy</td><td>0.84929</td></tr><tr><td>(model-validation) Precision</td><td>0.83977</td></tr><tr><td>(model-validation) Sensitivity</td><td>0.77134</td></tr><tr><td>(model-validation) Specificity</td><td>0.92724</td></tr><tr><td>test_loss</td><td>0.00842</td></tr><tr><td>training_loss</td><td>0.27983</td></tr><tr><td>validation_loss</td><td>0.00664</td></tr></table>\n",
       "</div></div>\n",
       "Synced 5 W&B file(s), 0 media file(s), 0 artifact file(s) and 0 other file(s)\n",
       "<br/>Synced <strong style=\"color:#cdcd00\">dauntless-sweep-6</strong>: <a href=\"https://wandb.ai/ece9603_project/breast-histopathology-classification/runs/2rqol4ha\" target=\"_blank\">https://wandb.ai/ece9603_project/breast-histopathology-classification/runs/2rqol4ha</a><br/>\n",
       "Find logs at: <code>.\\wandb\\run-20211125_191408-2rqol4ha\\logs</code><br/>\n"
      ],
      "text/plain": [
       "<IPython.core.display.HTML object>"
      ]
     },
     "metadata": {},
     "output_type": "display_data"
    },
    {
     "name": "stderr",
     "output_type": "stream",
     "text": [
      "\u001b[34m\u001b[1mwandb\u001b[0m: Agent Starting Run: snci3vrx with config:\n",
      "\u001b[34m\u001b[1mwandb\u001b[0m: \tepochs: 10\n",
      "\u001b[34m\u001b[1mwandb\u001b[0m: \tlearning_rate: 0.001\n",
      "\u001b[34m\u001b[1mwandb\u001b[0m: \tloss_function: bce_with_logits_loss\n",
      "\u001b[34m\u001b[1mwandb\u001b[0m: \u001b[33mWARNING\u001b[0m Ignored wandb.init() arg project when running a sweep\n",
      "\u001b[34m\u001b[1mwandb\u001b[0m: \u001b[33mWARNING\u001b[0m Ignored wandb.init() arg entity when running a sweep\n"
     ]
    },
    {
     "data": {
      "text/html": [
       "\n",
       "                    Syncing run <strong><a href=\"https://wandb.ai/ece9603_project/breast-histopathology-classification/runs/snci3vrx\" target=\"_blank\">bright-sweep-7</a></strong> to <a href=\"https://wandb.ai/ece9603_project/breast-histopathology-classification\" target=\"_blank\">Weights & Biases</a> (<a href=\"https://docs.wandb.com/integrations/jupyter.html\" target=\"_blank\">docs</a>).<br/>\n",
       "Sweep page: <a href=\"https://wandb.ai/ece9603_project/breast-histopathology-classification/sweeps/zkj8l8le\" target=\"_blank\">https://wandb.ai/ece9603_project/breast-histopathology-classification/sweeps/zkj8l8le</a><br/>\n",
       "\n",
       "                "
      ],
      "text/plain": [
       "<IPython.core.display.HTML object>"
      ]
     },
     "metadata": {},
     "output_type": "display_data"
    },
    {
     "name": "stderr",
     "output_type": "stream",
     "text": [
      "100%|██████████| 1534/1534 [06:13<00:00,  4.11it/s]\n",
      "  0%|          | 0/334 [00:00<?, ?it/s]"
     ]
    },
    {
     "name": "stdout",
     "output_type": "stream",
     "text": [
      "tp: 38165 tn: 131897 fp: 10783 fn: 15389\n",
      "Balanced Accuracy:  0.8185352339608662  Specificity:  0.9244252873563218  AUROC Score:  0.9205449290581875  Sensitivity:  0.7126451805654106  Precision:  0.7797049930538531\n"
     ]
    },
    {
     "name": "stderr",
     "output_type": "stream",
     "text": [
      "100%|██████████| 334/334 [01:17<00:00,  4.29it/s]\n",
      "  0%|          | 0/1534 [00:00<?, ?it/s]"
     ]
    },
    {
     "name": "stdout",
     "output_type": "stream",
     "text": [
      "tp: 10495 tn: 26784 fp: 1790 fn: 3631\n",
      "Balanced Accuracy:  0.840155944438737  Specificity:  0.9373556379925807  AUROC Score:  0.941898409272006  Sensitivity:  0.7429562508848931  Precision:  0.8542938542938543\n",
      "Epoch: 0/10... Loss: 0.3731... Val Loss: 0.0102\n"
     ]
    },
    {
     "name": "stderr",
     "output_type": "stream",
     "text": [
      "100%|██████████| 1534/1534 [06:09<00:00,  4.15it/s]\n",
      "  0%|          | 0/334 [00:00<?, ?it/s]"
     ]
    },
    {
     "name": "stdout",
     "output_type": "stream",
     "text": [
      "tp: 77713 tn: 264440 fp: 20920 fn: 29395\n",
      "Balanced Accuracy:  0.8261232379059396  Specificity:  0.9266890944771516  AUROC Score:  0.9267528784512679  Sensitivity:  0.7255573813347276  Precision:  0.7879006012186591\n"
     ]
    },
    {
     "name": "stderr",
     "output_type": "stream",
     "text": [
      "100%|██████████| 334/334 [01:22<00:00,  4.04it/s]\n",
      "  0%|          | 0/1534 [00:00<?, ?it/s]"
     ]
    },
    {
     "name": "stdout",
     "output_type": "stream",
     "text": [
      "tp: 9459 tn: 27412 fp: 1162 fn: 4667\n",
      "Balanced Accuracy:  0.8144749851601563  Specificity:  0.9593336599706026  AUROC Score:  0.9411767745164581  Sensitivity:  0.6696163103497098  Precision:  0.8905941060163827\n",
      "Epoch: 1/10... Loss: 0.3450... Val Loss: 0.0111\n"
     ]
    },
    {
     "name": "stderr",
     "output_type": "stream",
     "text": [
      "100%|██████████| 1534/1534 [06:46<00:00,  3.78it/s]\n"
     ]
    },
    {
     "name": "stdout",
     "output_type": "stream",
     "text": [
      "tp: 117851 tn: 397131 fp: 30909 fn: 42811\n",
      "Balanced Accuracy:  0.8306616065107573  Specificity:  0.927789458929072  AUROC Score:  0.9300726895937942  Sensitivity:  0.7335337540924425  Precision:  0.7922223716052702\n"
     ]
    },
    {
     "name": "stderr",
     "output_type": "stream",
     "text": [
      "100%|██████████| 334/334 [01:29<00:00,  3.71it/s]\n"
     ]
    },
    {
     "name": "stdout",
     "output_type": "stream",
     "text": [
      "tp: 10401 tn: 26888 fp: 1686 fn: 3725\n",
      "Balanced Accuracy:  0.8386485825790049  Specificity:  0.940995310422062  AUROC Score:  0.9396926922761291  Sensitivity:  0.7363018547359479  Precision:  0.8605112931248449\n",
      "Epoch: 2/10... Loss: 0.3358... Val Loss: 0.0104\n",
      "Early Stop no improvement in validation loss in 2 validation steps\n",
      "\n",
      "Lowest Validation Loss: 0.010197356343269348 at epoch 0\n",
      "\n"
     ]
    },
    {
     "name": "stderr",
     "output_type": "stream",
     "text": [
      "100%|██████████| 301/301 [01:17<00:00,  3.90it/s]\n"
     ]
    },
    {
     "name": "stdout",
     "output_type": "stream",
     "text": [
      "Test Loss:  0.011304174700090963\n",
      "tp: 8904 tn: 24655 fp: 2782 fn: 2187\n",
      "Balanced Accuracy:  0.8507085832427437  Specificity:  0.8986040747895178  AUROC Score:  0.9343300554672398  Sensitivity:  0.8028130916959697  Precision:  0.7619373609447202\n"
     ]
    },
    {
     "data": {
      "text/html": [
       "<br/>Waiting for W&B process to finish, PID 27188... <strong style=\"color:green\">(success).</strong>"
      ],
      "text/plain": [
       "<IPython.core.display.HTML object>"
      ]
     },
     "metadata": {},
     "output_type": "display_data"
    },
    {
     "data": {
      "application/vnd.jupyter.widget-view+json": {
       "model_id": "84242319084b49f1acb1ebb2d6100e11",
       "version_major": 2,
       "version_minor": 0
      },
      "text/plain": [
       "VBox(children=(Label(value=' 0.00MB of 0.00MB uploaded (0.00MB deduped)\\r'), FloatProgress(value=1.0, max=1.0)…"
      ]
     },
     "metadata": {},
     "output_type": "display_data"
    },
    {
     "data": {
      "text/html": [
       "<style>\n",
       "    table.wandb td:nth-child(1) { padding: 0 10px; text-align: right }\n",
       "    .wandb-row { display: flex; flex-direction: row; flex-wrap: wrap; width: 100% }\n",
       "    .wandb-col { display: flex; flex-direction: column; flex-basis: 100%; flex: 1; padding: 10px; }\n",
       "    </style>\n",
       "<div class=\"wandb-row\"><div class=\"wandb-col\">\n",
       "<h3>Run history:</h3><br/><table class=\"wandb\"><tr><td>(model-testing) AUROC Score</td><td>▁</td></tr><tr><td>(model-testing) Balanced Accuracy</td><td>▁</td></tr><tr><td>(model-testing) Precision</td><td>▁</td></tr><tr><td>(model-testing) Sensitivity</td><td>▁</td></tr><tr><td>(model-testing) Specificity</td><td>▁</td></tr><tr><td>(model-training) AUROC Score</td><td>▁▆█</td></tr><tr><td>(model-training) Balanced Accuracy</td><td>▁▅█</td></tr><tr><td>(model-training) Precision</td><td>▁▆█</td></tr><tr><td>(model-training) Sensitivity</td><td>▁▅█</td></tr><tr><td>(model-training) Specificity</td><td>▁▆█</td></tr><tr><td>(model-validation) AUROC Score</td><td>█▆▁</td></tr><tr><td>(model-validation) Balanced Accuracy</td><td>█▁█</td></tr><tr><td>(model-validation) Precision</td><td>▁█▂</td></tr><tr><td>(model-validation) Sensitivity</td><td>█▁▇</td></tr><tr><td>(model-validation) Specificity</td><td>▁█▂</td></tr><tr><td>test_loss</td><td>▁</td></tr><tr><td>training_loss</td><td>█▃▁</td></tr><tr><td>validation_loss</td><td>▁█▃</td></tr></table><br/></div><div class=\"wandb-col\">\n",
       "<h3>Run summary:</h3><br/><table class=\"wandb\"><tr><td>(model-testing) AUROC Score</td><td>0.93433</td></tr><tr><td>(model-testing) Balanced Accuracy</td><td>0.85071</td></tr><tr><td>(model-testing) Precision</td><td>0.76194</td></tr><tr><td>(model-testing) Sensitivity</td><td>0.80281</td></tr><tr><td>(model-testing) Specificity</td><td>0.8986</td></tr><tr><td>(model-training) AUROC Score</td><td>0.93007</td></tr><tr><td>(model-training) Balanced Accuracy</td><td>0.83066</td></tr><tr><td>(model-training) Precision</td><td>0.79222</td></tr><tr><td>(model-training) Sensitivity</td><td>0.73353</td></tr><tr><td>(model-training) Specificity</td><td>0.92779</td></tr><tr><td>(model-validation) AUROC Score</td><td>0.93969</td></tr><tr><td>(model-validation) Balanced Accuracy</td><td>0.83865</td></tr><tr><td>(model-validation) Precision</td><td>0.86051</td></tr><tr><td>(model-validation) Sensitivity</td><td>0.7363</td></tr><tr><td>(model-validation) Specificity</td><td>0.941</td></tr><tr><td>test_loss</td><td>0.0113</td></tr><tr><td>training_loss</td><td>0.33579</td></tr><tr><td>validation_loss</td><td>0.01042</td></tr></table>\n",
       "</div></div>\n",
       "Synced 5 W&B file(s), 0 media file(s), 0 artifact file(s) and 0 other file(s)\n",
       "<br/>Synced <strong style=\"color:#cdcd00\">bright-sweep-7</strong>: <a href=\"https://wandb.ai/ece9603_project/breast-histopathology-classification/runs/snci3vrx\" target=\"_blank\">https://wandb.ai/ece9603_project/breast-histopathology-classification/runs/snci3vrx</a><br/>\n",
       "Find logs at: <code>.\\wandb\\run-20211125_195105-snci3vrx\\logs</code><br/>\n"
      ],
      "text/plain": [
       "<IPython.core.display.HTML object>"
      ]
     },
     "metadata": {},
     "output_type": "display_data"
    },
    {
     "name": "stderr",
     "output_type": "stream",
     "text": [
      "\u001b[34m\u001b[1mwandb\u001b[0m: Sweep Agent: Waiting for job.\n",
      "\u001b[34m\u001b[1mwandb\u001b[0m: Sweep Agent: Exiting.\n"
     ]
    }
   ],
   "source": [
    "# Run the sweep\n",
    "wandb.agent(sweep_id, trainAndTestModel)"
   ]
  }
 ],
 "metadata": {
  "kernelspec": {
   "display_name": "Python 3 (ipykernel)",
   "language": "python",
   "name": "python3"
  },
  "language_info": {
   "codemirror_mode": {
    "name": "ipython",
    "version": 3
   },
   "file_extension": ".py",
   "mimetype": "text/x-python",
   "name": "python",
   "nbconvert_exporter": "python",
   "pygments_lexer": "ipython3",
   "version": "3.9.7"
  }
 },
 "nbformat": 4,
 "nbformat_minor": 1
}
